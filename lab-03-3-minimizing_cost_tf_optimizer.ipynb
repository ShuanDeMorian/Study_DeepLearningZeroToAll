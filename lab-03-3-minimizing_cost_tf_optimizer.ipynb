{
 "cells": [
  {
   "cell_type": "markdown",
   "metadata": {},
   "source": [
    "# Lab-03-3 Minimizing Cost TF Optimizer"
   ]
  },
  {
   "cell_type": "code",
   "execution_count": null,
   "metadata": {},
   "outputs": [],
   "source": [
    "import tensorflow as tf\n",
    "tf.set_random_seed(777)  # for reproducibility"
   ]
  },
  {
   "cell_type": "markdown",
   "metadata": {},
   "source": [
    "## X and Y data"
   ]
  },
  {
   "cell_type": "code",
   "execution_count": null,
   "metadata": {},
   "outputs": [],
   "source": [
    "# tf Graph Input\n",
    "X = [1, 2, 3]\n",
    "Y = [1, 2, 3]"
   ]
  },
  {
   "cell_type": "markdown",
   "metadata": {},
   "source": [
    "## Variable"
   ]
  },
  {
   "cell_type": "code",
   "execution_count": null,
   "metadata": {},
   "outputs": [],
   "source": [
    "# Set wrong model weights\n",
    "W = tf.Variable(-3.0)"
   ]
  },
  {
   "cell_type": "markdown",
   "metadata": {},
   "source": [
    "## Our Model"
   ]
  },
  {
   "cell_type": "code",
   "execution_count": null,
   "metadata": {},
   "outputs": [],
   "source": [
    "# Linear model\n",
    "hypothesis = X * W\n",
    "\n",
    "# cost/loss function\n",
    "cost = tf.reduce_mean(tf.square(hypothesis - Y))"
   ]
  },
  {
   "cell_type": "markdown",
   "metadata": {},
   "source": [
    "## Minimize"
   ]
  },
  {
   "cell_type": "code",
   "execution_count": null,
   "metadata": {},
   "outputs": [],
   "source": [
    "# Minimize: Gradient Descent Magic\n",
    "optimizer = tf.train.GradientDescentOptimizer(learning_rate=0.1)\n",
    "train = optimizer.minimize(cost)"
   ]
  },
  {
   "cell_type": "markdown",
   "metadata": {},
   "source": [
    "## Prepare session"
   ]
  },
  {
   "cell_type": "code",
   "execution_count": null,
   "metadata": {},
   "outputs": [],
   "source": [
    "# Launch the graph in a session.\n",
    "sess = tf.Session()\n",
    "# Initializes global variables in the graph.\n",
    "sess.run(tf.global_variables_initializer())"
   ]
  },
  {
   "cell_type": "markdown",
   "metadata": {},
   "source": [
    "## Fit the line"
   ]
  },
  {
   "cell_type": "code",
   "execution_count": null,
   "metadata": {},
   "outputs": [],
   "source": [
    "for step in range(100):\n",
    "    print(step, sess.run(W))\n",
    "    sess.run(train)"
   ]
  },
  {
   "cell_type": "markdown",
   "metadata": {
    "collapsed": true
   },
   "source": [
    "```\n",
    "0 -3.0\n",
    "1 0.733334\n",
    "2 0.982222\n",
    "3 0.998815\n",
    "4 0.999921\n",
    "...\n",
    "96 1.0\n",
    "97 1.0\n",
    "98 1.0\n",
    "99 1.0\n",
    "```"
   ]
  },
  {
   "cell_type": "markdown",
   "metadata": {},
   "source": [
    "# 안 보고 작성"
   ]
  },
  {
   "cell_type": "code",
   "execution_count": 11,
   "metadata": {},
   "outputs": [],
   "source": [
    "import tensorflow as tf\n",
    "tf.set_random_seed(777)"
   ]
  },
  {
   "cell_type": "code",
   "execution_count": 12,
   "metadata": {},
   "outputs": [],
   "source": [
    "x_data=[1,2,3]\n",
    "y_data=[1,2,3]"
   ]
  },
  {
   "cell_type": "code",
   "execution_count": 13,
   "metadata": {},
   "outputs": [],
   "source": [
    "W=tf.Variable(-100.0)    # -100으로만 하면 int형이 되어서 나중에 float 타입이 아니라고 오류 난다.\n",
    "b=tf.Variable(-100.0)\n",
    "X=tf.placeholder(tf.float32)\n",
    "Y=tf.placeholder(tf.float32)"
   ]
  },
  {
   "cell_type": "code",
   "execution_count": 14,
   "metadata": {},
   "outputs": [],
   "source": [
    "hypothesis = W * X + b\n",
    "cost = tf.reduce_mean(tf.square(hypothesis-Y))"
   ]
  },
  {
   "cell_type": "code",
   "execution_count": 15,
   "metadata": {},
   "outputs": [],
   "source": [
    "optimizer=tf.train.GradientDescentOptimizer(learning_rate=0.1)\n",
    "train=optimizer.minimize(cost)"
   ]
  },
  {
   "cell_type": "code",
   "execution_count": 16,
   "metadata": {},
   "outputs": [],
   "source": [
    "sess=tf.Session()\n",
    "sess.run(tf.global_variables_initializer())"
   ]
  },
  {
   "cell_type": "code",
   "execution_count": 17,
   "metadata": {
    "scrolled": false
   },
   "outputs": [
    {
     "name": "stdout",
     "output_type": "stream",
     "text": [
      "0 98004.664 -100.0 -100.0\n",
      "20 117.499886 13.58968 -28.6193\n",
      "40 44.394623 8.738578 -17.591606\n",
      "60 16.773493 5.7567215 -10.813146\n",
      "80 6.33748 3.9238443 -6.6465855\n",
      "100 2.3944721 2.7972183 -4.0855\n",
      "120 0.90469646 2.1047077 -2.5112603\n",
      "140 0.34181878 1.6790377 -1.5436121\n",
      "160 0.12914829 1.4173883 -0.94882166\n",
      "180 0.048795704 1.2565587 -0.5832183\n",
      "200 0.018436337 1.1577005 -0.3584905\n",
      "220 0.006965752 1.0969348 -0.2203556\n",
      "240 0.002631847 1.0595835 -0.13544735\n",
      "260 0.000994388 1.0366246 -0.08325636\n",
      "280 0.00037570493 1.0225122 -0.051175676\n",
      "300 0.00014194859 1.0138377 -0.03145638\n",
      "320 5.3631666e-05 1.0085057 -0.019335423\n",
      "340 2.0263547e-05 1.0052283 -0.011885062\n",
      "360 7.65622e-06 1.0032136 -0.007305435\n",
      "380 2.8925206e-06 1.0019754 -0.0044904975\n",
      "400 1.0930077e-06 1.0012143 -0.0027602105\n",
      "420 4.130292e-07 1.0007464 -0.001696653\n",
      "440 1.5604797e-07 1.0004588 -0.0010428296\n",
      "460 5.896491e-08 1.000282 -0.00064111414\n",
      "480 2.2279986e-08 1.0001733 -0.00039410457\n",
      "500 8.42565e-09 1.0001066 -0.00024230746\n"
     ]
    }
   ],
   "source": [
    "for t in range(501):\n",
    "    # 변하기 전의 W와 b를 보고 싶어서 일부러 먼저 따로 실행한다.\n",
    "    re_W,re_b = sess.run([W,b])\n",
    "    re_cost,_ = sess.run([cost,train],feed_dict={X:x_data,Y:y_data})\n",
    "    if t%20 == 0:\n",
    "        print(t,re_cost,re_W,re_b)"
   ]
  }
 ],
 "metadata": {
  "kernelspec": {
   "display_name": "Python 3",
   "language": "python",
   "name": "python3"
  },
  "language_info": {
   "codemirror_mode": {
    "name": "ipython",
    "version": 3
   },
   "file_extension": ".py",
   "mimetype": "text/x-python",
   "name": "python",
   "nbconvert_exporter": "python",
   "pygments_lexer": "ipython3",
   "version": "3.6.5"
  }
 },
 "nbformat": 4,
 "nbformat_minor": 2
}
