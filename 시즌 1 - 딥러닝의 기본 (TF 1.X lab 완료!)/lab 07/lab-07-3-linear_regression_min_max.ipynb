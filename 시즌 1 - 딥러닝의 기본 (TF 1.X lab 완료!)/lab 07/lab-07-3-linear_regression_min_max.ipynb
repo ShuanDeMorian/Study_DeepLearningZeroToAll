{
 "cells": [
  {
   "cell_type": "code",
   "execution_count": 80,
   "metadata": {},
   "outputs": [],
   "source": [
    "import tensorflow as tf\n",
    "import numpy as np\n",
    "tf.set_random_seed(777)  # for reproducibility"
   ]
  },
  {
   "cell_type": "markdown",
   "metadata": {},
   "source": [
    "헷갈리기 쉬운 것\n",
    "\n",
    "np.max(a,axis=0) 0과 비교하는 게 아니라 axis 0에서 max\n",
    "\n",
    "np.maximu(a,0) 0과 비교"
   ]
  },
  {
   "cell_type": "code",
   "execution_count": 81,
   "metadata": {},
   "outputs": [
    {
     "name": "stdout",
     "output_type": "stream",
     "text": [
      "6\n",
      "------------------------------\n",
      "[ 2 -1  6]\n",
      "------------------------------\n",
      "[[0 0 6]\n",
      " [2 0 1]]\n",
      "------------------------------\n"
     ]
    }
   ],
   "source": [
    "a = np.array([[0, -1, 6],\n",
    "              [2, -4, 1]])\n",
    "print(np.max(a))\n",
    "print(\"------------------------------\")\n",
    "print(np.max(a,0))\n",
    "print(\"------------------------------\")\n",
    "print(np.maximum(a,0))   # 0은 브로드캐스팅됨\n",
    "print(\"------------------------------\")"
   ]
  },
  {
   "cell_type": "code",
   "execution_count": 82,
   "metadata": {},
   "outputs": [],
   "source": [
    "def MinMaxScaler(data):\n",
    "    numerator = data - np.min(data,0)    # 분자, 0 axis에서 min\n",
    "    denominator = np.max(data,0) - np.min(data, 0)  # 분모\n",
    "    # noise term prevents the zero division 분모 0 되는 것 방지\n",
    "    return numerator / (denominator + 1e-7)  "
   ]
  },
  {
   "cell_type": "code",
   "execution_count": 83,
   "metadata": {},
   "outputs": [],
   "source": [
    "xy = np.array([[828.659973, 833.450012, 908100, 828.349976, 831.659973],\n",
    "               [823.02002, 828.070007, 1828100, 821.655029, 828.070007],\n",
    "               [819.929993, 824.400024, 1438100, 818.97998, 824.159973],\n",
    "               [816, 820.958984, 1008100, 815.48999, 819.23999],\n",
    "               [819.359985, 823, 1188100, 818.469971, 818.97998],\n",
    "               [819, 823, 1198100, 816, 820.450012],\n",
    "               [811.700012, 815.25, 1098100, 809.780029, 813.669983],\n",
    "               [809.51001, 816.659973, 1398100, 804.539978, 809.559998]])"
   ]
  },
  {
   "cell_type": "code",
   "execution_count": 84,
   "metadata": {},
   "outputs": [],
   "source": [
    "# suppresses the use of scientific notation for small numbers:\n",
    "np.set_printoptions(suppress=True)"
   ]
  },
  {
   "cell_type": "code",
   "execution_count": 85,
   "metadata": {},
   "outputs": [
    {
     "name": "stdout",
     "output_type": "stream",
     "text": [
      "[[0.99999999 0.99999999 0.         1.         1.        ]\n",
      " [0.70548491 0.70439552 1.         0.71881782 0.83755791]\n",
      " [0.54412549 0.50274824 0.57608696 0.606468   0.6606331 ]\n",
      " [0.33890353 0.31368023 0.10869565 0.45989134 0.43800918]\n",
      " [0.51436    0.42582389 0.30434783 0.58504805 0.42624401]\n",
      " [0.49556179 0.42582389 0.31521739 0.48131134 0.49276137]\n",
      " [0.11436064 0.         0.20652174 0.22007776 0.18597238]\n",
      " [0.         0.07747099 0.5326087  0.         0.        ]]\n"
     ]
    }
   ],
   "source": [
    "# very important. It does not work without it.\n",
    "xy = MinMaxScaler(xy)\n",
    "print(xy)"
   ]
  },
  {
   "cell_type": "code",
   "execution_count": 86,
   "metadata": {},
   "outputs": [],
   "source": [
    "x_data = xy[:, 0:-1]\n",
    "y_data = xy[:, [-1]]"
   ]
  },
  {
   "cell_type": "code",
   "execution_count": 87,
   "metadata": {},
   "outputs": [],
   "source": [
    "# placeholders for a tensor that will be always fed.\n",
    "X = tf.placeholder(tf.float32, shape=[None, 4])\n",
    "Y = tf.placeholder(tf.float32, shape=[None, 1])"
   ]
  },
  {
   "cell_type": "code",
   "execution_count": 88,
   "metadata": {},
   "outputs": [],
   "source": [
    "W = tf.Variable(tf.random_normal([4, 1]), name='weight')\n",
    "b = tf.Variable(tf.random_normal([1]), name='bias')"
   ]
  },
  {
   "cell_type": "code",
   "execution_count": 89,
   "metadata": {},
   "outputs": [],
   "source": [
    "# Hypothesis\n",
    "hypothesis = tf.matmul(X, W) + b"
   ]
  },
  {
   "cell_type": "code",
   "execution_count": 90,
   "metadata": {},
   "outputs": [],
   "source": [
    "# Simplified cost/loss function\n",
    "cost = tf.reduce_mean(tf.square(hypothesis - Y))"
   ]
  },
  {
   "cell_type": "code",
   "execution_count": 91,
   "metadata": {},
   "outputs": [],
   "source": [
    "# Minimize\n",
    "optimizer = tf.train.GradientDescentOptimizer(learning_rate=1e-1)\n",
    "train = optimizer.minimize(cost)"
   ]
  },
  {
   "cell_type": "code",
   "execution_count": 92,
   "metadata": {
    "scrolled": false
   },
   "outputs": [
    {
     "name": "stdout",
     "output_type": "stream",
     "text": [
      "0 Cost:  0.56470245 \n",
      "Prediction:\n",
      " [[-0.06572413]\n",
      " [-0.06795955]\n",
      " [-0.13650313]\n",
      " [-0.2401303 ]\n",
      " [-0.16231954]\n",
      " [-0.2708047 ]\n",
      " [-0.3281756 ]\n",
      " [-0.5223048 ]]\n",
      "20 Cost:  0.004575833 \n",
      "Prediction:\n",
      " [[ 0.9348108 ]\n",
      " [ 0.8814722 ]\n",
      " [ 0.66476774]\n",
      " [ 0.39388925]\n",
      " [ 0.5796259 ]\n",
      " [ 0.44659024]\n",
      " [ 0.16138233]\n",
      " [-0.04693043]]\n",
      "40 Cost:  0.0043083075 \n",
      "Prediction:\n",
      " [[ 0.9399359 ]\n",
      " [ 0.86917806]\n",
      " [ 0.661196  ]\n",
      " [ 0.40021884]\n",
      " [ 0.58127433]\n",
      " [ 0.44865268]\n",
      " [ 0.16707171]\n",
      " [-0.04575258]]\n",
      "60 Cost:  0.004144351 \n",
      "Prediction:\n",
      " [[ 0.94375384]\n",
      " [ 0.8599185 ]\n",
      " [ 0.6584219 ]\n",
      " [ 0.40489423]\n",
      " [ 0.5823627 ]\n",
      " [ 0.45019752]\n",
      " [ 0.171211  ]\n",
      " [-0.04457655]]\n",
      "80 Cost:  0.004038583 \n",
      "Prediction:\n",
      " [[ 0.94668436]\n",
      " [ 0.8529706 ]\n",
      " [ 0.6562802 ]\n",
      " [ 0.4083597 ]\n",
      " [ 0.58307004]\n",
      " [ 0.45138693]\n",
      " [ 0.17419137]\n",
      " [-0.04342212]]\n",
      "100 Cost:  0.003965674 \n",
      "Prediction:\n",
      " [[ 0.9489725 ]\n",
      " [ 0.8477488 ]\n",
      " [ 0.65461016]\n",
      " [ 0.41091913]\n",
      " [ 0.5834941 ]\n",
      " [ 0.45230865]\n",
      " [ 0.17629462]\n",
      " [-0.04230736]]\n"
     ]
    }
   ],
   "source": [
    "# Launch the graph in a session.\n",
    "sess = tf.Session()\n",
    "# Initializes global variables in the graph.\n",
    "sess.run(tf.global_variables_initializer())\n",
    "\n",
    "for step in range(101):\n",
    "    cost_val, hy_val, _ = sess.run(\n",
    "        [cost, hypothesis, train], feed_dict={X: x_data, Y: y_data})\n",
    "    if step% 20==0:\n",
    "        print(step, \"Cost: \", cost_val, \"\\nPrediction:\\n\", hy_val)"
   ]
  }
 ],
 "metadata": {
  "kernelspec": {
   "display_name": "Python 3",
   "language": "python",
   "name": "python3"
  },
  "language_info": {
   "codemirror_mode": {
    "name": "ipython",
    "version": 3
   },
   "file_extension": ".py",
   "mimetype": "text/x-python",
   "name": "python",
   "nbconvert_exporter": "python",
   "pygments_lexer": "ipython3",
   "version": "3.6.5"
  }
 },
 "nbformat": 4,
 "nbformat_minor": 2
}
