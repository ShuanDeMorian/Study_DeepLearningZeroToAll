{
 "cells": [
  {
   "cell_type": "code",
   "execution_count": 11,
   "metadata": {},
   "outputs": [],
   "source": [
    "import tensorflow as tf\n",
    "tf.set_random_seed(777) # for reproducibility"
   ]
  },
  {
   "cell_type": "code",
   "execution_count": 12,
   "metadata": {},
   "outputs": [],
   "source": [
    "x_data = [[1, 2, 1],\n",
    "          [1, 3, 2],\n",
    "          [1, 3, 4],\n",
    "          [1, 5, 5],\n",
    "          [1, 7, 5],\n",
    "          [1, 2, 5],\n",
    "          [1, 6, 6],\n",
    "          [1, 7, 7]]\n",
    "y_data = [[0, 0, 1],\n",
    "          [0, 0, 1],\n",
    "          [0, 0, 1],\n",
    "          [0, 1, 0],\n",
    "          [0, 1, 0],\n",
    "          [0, 1, 0],\n",
    "          [1, 0, 0],\n",
    "          [1, 0, 0]]"
   ]
  },
  {
   "cell_type": "code",
   "execution_count": 13,
   "metadata": {},
   "outputs": [],
   "source": [
    "# Evaluation our model using this test dataset\n",
    "x_test = [[2, 1, 1],\n",
    "          [3, 1, 2],\n",
    "          [3, 3, 4]]\n",
    "y_test = [[0, 0, 1],\n",
    "          [0, 0, 1],\n",
    "          [0, 0, 1]]"
   ]
  },
  {
   "cell_type": "code",
   "execution_count": 14,
   "metadata": {},
   "outputs": [],
   "source": [
    "X = tf.placeholder(tf.float32, [None, 3])\n",
    "Y = tf.placeholder(tf.float32, [None, 3])"
   ]
  },
  {
   "cell_type": "code",
   "execution_count": 15,
   "metadata": {},
   "outputs": [],
   "source": [
    "W = tf.Variable(tf.random_normal([3,3]))\n",
    "b = tf.Variable(tf.random_normal([3]))"
   ]
  },
  {
   "cell_type": "code",
   "execution_count": 16,
   "metadata": {},
   "outputs": [],
   "source": [
    "# tf.nn.softmax computes softmax activations\n",
    "# softmax = exp(logits) / reduce_sum(exp(logits), dim)\n",
    "hypothesis = tf.nn.softmax(tf.matmul(X, W) + b)"
   ]
  },
  {
   "cell_type": "code",
   "execution_count": 17,
   "metadata": {},
   "outputs": [],
   "source": [
    "# Cross enropy cost/loss\n",
    "cost = tf.reduce_mean(-tf.reduce_sum(Y * tf.log(hypothesis), axis=1))"
   ]
  },
  {
   "cell_type": "code",
   "execution_count": 18,
   "metadata": {},
   "outputs": [],
   "source": [
    "# Try to change learning_rate to small numbers (lr 아주 작게)\n",
    "optimizer = tf.train.GradientDescentOptimizer(learning_rate=1e-10).minimize(cost)"
   ]
  },
  {
   "cell_type": "code",
   "execution_count": 19,
   "metadata": {
    "scrolled": true
   },
   "outputs": [],
   "source": [
    "# Correct prediction Test model\n",
    "prediction = tf.arg_max(hypothesis, 1)\n",
    "is_correct = tf.equal(prediction, tf.arg_max(Y,1))\n",
    "accuracy = tf.reduce_mean(tf.cast(is_correct, tf.float32))"
   ]
  },
  {
   "cell_type": "code",
   "execution_count": 20,
   "metadata": {},
   "outputs": [
    {
     "name": "stdout",
     "output_type": "stream",
     "text": [
      "0 5.191887 [[-2.114478    1.1758164   1.4683932 ]\n",
      " [-0.623169   -0.3661066   0.4470526 ]\n",
      " [ 0.52655727  1.4796041  -2.357289  ]]\n",
      "10 5.191887 [[-2.114478    1.1758164   1.4683932 ]\n",
      " [-0.623169   -0.3661066   0.4470526 ]\n",
      " [ 0.52655727  1.4796041  -2.357289  ]]\n",
      "20 5.191887 [[-2.114478    1.1758164   1.4683932 ]\n",
      " [-0.623169   -0.3661066   0.4470526 ]\n",
      " [ 0.52655727  1.4796041  -2.357289  ]]\n",
      "30 5.191887 [[-2.114478    1.1758164   1.4683932 ]\n",
      " [-0.623169   -0.3661066   0.4470526 ]\n",
      " [ 0.52655727  1.4796041  -2.357289  ]]\n",
      "40 5.191887 [[-2.114478    1.1758164   1.4683932 ]\n",
      " [-0.623169   -0.3661066   0.4470526 ]\n",
      " [ 0.52655727  1.4796041  -2.357289  ]]\n",
      "50 5.191887 [[-2.114478    1.1758164   1.4683932 ]\n",
      " [-0.623169   -0.3661066   0.4470526 ]\n",
      " [ 0.52655727  1.4796041  -2.357289  ]]\n",
      "60 5.191887 [[-2.114478    1.1758164   1.4683932 ]\n",
      " [-0.623169   -0.3661066   0.4470526 ]\n",
      " [ 0.52655727  1.4796041  -2.357289  ]]\n",
      "70 5.191887 [[-2.114478    1.1758164   1.4683932 ]\n",
      " [-0.623169   -0.3661066   0.4470526 ]\n",
      " [ 0.52655727  1.4796041  -2.357289  ]]\n",
      "80 5.191887 [[-2.114478    1.1758164   1.4683932 ]\n",
      " [-0.623169   -0.3661066   0.4470526 ]\n",
      " [ 0.52655727  1.4796041  -2.357289  ]]\n",
      "90 5.191887 [[-2.114478    1.1758164   1.4683932 ]\n",
      " [-0.623169   -0.3661066   0.4470526 ]\n",
      " [ 0.52655727  1.4796041  -2.357289  ]]\n",
      "100 5.191887 [[-2.114478    1.1758164   1.4683932 ]\n",
      " [-0.623169   -0.3661066   0.4470526 ]\n",
      " [ 0.52655727  1.4796041  -2.357289  ]]\n",
      "110 5.191887 [[-2.114478    1.1758164   1.4683932 ]\n",
      " [-0.623169   -0.3661066   0.4470526 ]\n",
      " [ 0.52655727  1.4796041  -2.357289  ]]\n",
      "120 5.191887 [[-2.114478    1.1758164   1.4683932 ]\n",
      " [-0.623169   -0.3661066   0.4470526 ]\n",
      " [ 0.52655727  1.4796041  -2.357289  ]]\n",
      "130 5.191887 [[-2.114478    1.1758164   1.4683932 ]\n",
      " [-0.623169   -0.3661066   0.4470526 ]\n",
      " [ 0.52655727  1.4796041  -2.357289  ]]\n",
      "140 5.191887 [[-2.114478    1.1758164   1.4683932 ]\n",
      " [-0.623169   -0.3661066   0.4470526 ]\n",
      " [ 0.52655727  1.4796041  -2.357289  ]]\n",
      "150 5.191887 [[-2.114478    1.1758164   1.4683932 ]\n",
      " [-0.623169   -0.3661066   0.4470526 ]\n",
      " [ 0.52655727  1.4796041  -2.357289  ]]\n",
      "160 5.191887 [[-2.114478    1.1758164   1.4683932 ]\n",
      " [-0.623169   -0.3661066   0.4470526 ]\n",
      " [ 0.52655727  1.4796041  -2.357289  ]]\n",
      "170 5.191887 [[-2.114478    1.1758164   1.4683932 ]\n",
      " [-0.623169   -0.3661066   0.4470526 ]\n",
      " [ 0.52655727  1.4796041  -2.357289  ]]\n",
      "180 5.191887 [[-2.114478    1.1758164   1.4683932 ]\n",
      " [-0.623169   -0.3661066   0.4470526 ]\n",
      " [ 0.52655727  1.4796041  -2.357289  ]]\n",
      "190 5.191887 [[-2.114478    1.1758164   1.4683932 ]\n",
      " [-0.623169   -0.3661066   0.4470526 ]\n",
      " [ 0.52655727  1.4796041  -2.357289  ]]\n",
      "200 5.191887 [[-2.114478    1.1758164   1.4683932 ]\n",
      " [-0.623169   -0.3661066   0.4470526 ]\n",
      " [ 0.52655727  1.4796041  -2.357289  ]]\n",
      "Prediction: [1 1 1]\n",
      "Accuracy:  0.0\n"
     ]
    }
   ],
   "source": [
    "# Launch graph\n",
    "with tf.Session() as sess:\n",
    "    # Initialize TensorFlow variables\n",
    "    sess.run(tf.global_variables_initializer())\n",
    "    \n",
    "    for step in range(201):\n",
    "        cost_val, W_val, _ = sess.run([cost, W, optimizer], feed_dict={X: x_data, Y: y_data})\n",
    "        if step%10 == 0:\n",
    "            print(step, cost_val, W_val)\n",
    "    \n",
    "    # Predict\n",
    "    print(\"Prediction:\", sess.run(prediction, feed_dict={X:x_test}))\n",
    "    # Calculate the accuracy\n",
    "    print(\"Accuracy: \", sess.run(accuracy, feed_dict={X:x_test, Y:y_test}))"
   ]
  },
  {
   "cell_type": "code",
   "execution_count": 21,
   "metadata": {},
   "outputs": [],
   "source": [
    "# lr 아주 크게\n",
    "optimizer = tf.train.GradientDescentOptimizer(learning_rate=1.5).minimize(cost)"
   ]
  },
  {
   "cell_type": "code",
   "execution_count": 22,
   "metadata": {},
   "outputs": [
    {
     "name": "stdout",
     "output_type": "stream",
     "text": [
      "0 5.191887 [[-1.7491041   0.25865757  2.020178  ]\n",
      " [ 1.7919745  -4.259283    1.9250852 ]\n",
      " [ 2.9499474  -2.2450333  -1.0560418 ]]\n",
      "10 nan [[nan nan nan]\n",
      " [nan nan nan]\n",
      " [nan nan nan]]\n",
      "20 nan [[nan nan nan]\n",
      " [nan nan nan]\n",
      " [nan nan nan]]\n",
      "30 nan [[nan nan nan]\n",
      " [nan nan nan]\n",
      " [nan nan nan]]\n",
      "40 nan [[nan nan nan]\n",
      " [nan nan nan]\n",
      " [nan nan nan]]\n",
      "50 nan [[nan nan nan]\n",
      " [nan nan nan]\n",
      " [nan nan nan]]\n",
      "60 nan [[nan nan nan]\n",
      " [nan nan nan]\n",
      " [nan nan nan]]\n",
      "70 nan [[nan nan nan]\n",
      " [nan nan nan]\n",
      " [nan nan nan]]\n",
      "80 nan [[nan nan nan]\n",
      " [nan nan nan]\n",
      " [nan nan nan]]\n",
      "90 nan [[nan nan nan]\n",
      " [nan nan nan]\n",
      " [nan nan nan]]\n",
      "100 nan [[nan nan nan]\n",
      " [nan nan nan]\n",
      " [nan nan nan]]\n",
      "110 nan [[nan nan nan]\n",
      " [nan nan nan]\n",
      " [nan nan nan]]\n",
      "120 nan [[nan nan nan]\n",
      " [nan nan nan]\n",
      " [nan nan nan]]\n",
      "130 nan [[nan nan nan]\n",
      " [nan nan nan]\n",
      " [nan nan nan]]\n",
      "140 nan [[nan nan nan]\n",
      " [nan nan nan]\n",
      " [nan nan nan]]\n",
      "150 nan [[nan nan nan]\n",
      " [nan nan nan]\n",
      " [nan nan nan]]\n",
      "160 nan [[nan nan nan]\n",
      " [nan nan nan]\n",
      " [nan nan nan]]\n",
      "170 nan [[nan nan nan]\n",
      " [nan nan nan]\n",
      " [nan nan nan]]\n",
      "180 nan [[nan nan nan]\n",
      " [nan nan nan]\n",
      " [nan nan nan]]\n",
      "190 nan [[nan nan nan]\n",
      " [nan nan nan]\n",
      " [nan nan nan]]\n",
      "200 nan [[nan nan nan]\n",
      " [nan nan nan]\n",
      " [nan nan nan]]\n",
      "Prediction: [0 0 0]\n",
      "Accuracy:  0.0\n"
     ]
    }
   ],
   "source": [
    "# Launch graph\n",
    "with tf.Session() as sess:\n",
    "    # Initialize TensorFlow variables\n",
    "    sess.run(tf.global_variables_initializer())\n",
    "    \n",
    "    for step in range(201):\n",
    "        cost_val, W_val, _ = sess.run([cost, W, optimizer], feed_dict={X: x_data, Y: y_data})\n",
    "        if step%10 == 0:\n",
    "            print(step, cost_val, W_val)\n",
    "    \n",
    "    # Predict\n",
    "    print(\"Prediction:\", sess.run(prediction, feed_dict={X:x_test}))\n",
    "    # Calculate the accuracy\n",
    "    print(\"Accuracy: \", sess.run(accuracy, feed_dict={X:x_test, Y:y_test}))"
   ]
  },
  {
   "cell_type": "code",
   "execution_count": 23,
   "metadata": {},
   "outputs": [],
   "source": [
    "# lr 적절\n",
    "optimizer = tf.train.GradientDescentOptimizer(learning_rate=0.1).minimize(cost)"
   ]
  },
  {
   "cell_type": "code",
   "execution_count": 24,
   "metadata": {},
   "outputs": [
    {
     "name": "stdout",
     "output_type": "stream",
     "text": [
      "0 5.191887 [[-2.0901198   1.1146725   1.5051788 ]\n",
      " [-0.46215943 -0.6256517   0.5455881 ]\n",
      " [ 0.6881166   1.231295   -2.2705393 ]]\n",
      "10 1.1365926 [[-2.1762283   0.9816964   1.7242628 ]\n",
      " [-0.5855331  -0.97193974  1.0152498 ]\n",
      " [ 0.6149906   0.7771986  -1.7433169 ]]\n",
      "20 1.060614 [[-2.231961    0.94798374  1.8137087 ]\n",
      " [-0.5506949  -0.8920851   0.900557  ]\n",
      " [ 0.6074567   0.6761382  -1.6347224 ]]\n",
      "30 0.9983222 [[-2.2893572   0.9185072   1.9005818 ]\n",
      " [-0.5187449  -0.810657    0.78717905]\n",
      " [ 0.5856457   0.59426284 -1.5310358 ]]\n",
      "40 0.9408926 [[-2.346671    0.89127535  1.9851277 ]\n",
      " [-0.48329514 -0.7363987   0.677471  ]\n",
      " [ 0.55978197  0.52089065 -1.4318001 ]]\n",
      "50 0.88825476 [[-2.403482    0.8660153   2.0671983 ]\n",
      " [-0.44523078 -0.6689998   0.57200783]\n",
      " [ 0.5322248   0.45464927 -1.3380016 ]]\n",
      "60 0.8405006 [[-2.4595098   0.8426126   2.1466284 ]\n",
      " [-0.40590447 -0.6078038   0.47148564]\n",
      " [ 0.5044494   0.3949717  -1.2505486 ]]\n",
      "70 0.79774016 [[-2.5145202   0.8210109   2.2232404 ]\n",
      " [-0.36652383 -0.55233914  0.37664038]\n",
      " [ 0.47762895  0.3415212  -1.1702776 ]]\n",
      "80 0.76002586 [[-2.5683167   0.8011899   2.2968585 ]\n",
      " [-0.32809836 -0.5023224   0.28819808]\n",
      " [ 0.45270008  0.29409444 -1.097922  ]]\n",
      "90 0.7272906 [[-2.6207452   0.7831462   2.3673306 ]\n",
      " [-0.29144374 -0.4575976   0.2068187 ]\n",
      " [ 0.43038324  0.2525534  -1.034064  ]]\n",
      "100 0.6993115 [[-2.6716957   0.7668718   2.4345555 ]\n",
      " [-0.2571904  -0.41806173  0.13302949]\n",
      " [ 0.41118985  0.21675399 -0.9790712 ]]\n",
      "110 0.6757003 [[-2.7211058   0.7523372   2.4985003 ]\n",
      " [-0.22578627 -0.38358894  0.06715259]\n",
      " [ 0.3954236   0.18647702 -0.9330279 ]]\n",
      "120 0.6559292 [[-2.768963    0.73948133  2.5592132 ]\n",
      " [-0.1974973  -0.3539695   0.00924417]\n",
      " [ 0.38318574  0.16137993 -0.895693  ]]\n",
      "130 0.63938916 [[-2.8152976   0.72821015  2.6168191 ]\n",
      " [-0.17241521 -0.32887775 -0.04092962]\n",
      " [ 0.37439555  0.14098555 -0.8665085 ]]\n",
      "140 0.6254631 [[-2.8601763   0.7184046   2.6715035 ]\n",
      " [-0.15047917 -0.30787823 -0.08386509]\n",
      " [ 0.36882964  0.12471029 -0.84466726]]\n",
      "150 0.6135872 [[-2.9036894   0.70993227  2.7234888 ]\n",
      " [-0.13151108 -0.2904616  -0.12024982]\n",
      " [ 0.36617205  0.11191851 -0.8292179 ]]\n",
      "160 0.6032883 [[-2.9459379   0.7026588   2.7730112 ]\n",
      " [-0.11525645 -0.27609277 -0.15087324]\n",
      " [ 0.3660635   0.1019804  -0.81917125]]\n",
      "170 0.5941932 [[-2.987027    0.6964561   2.820303  ]\n",
      " [-0.10142274 -0.26425508 -0.17654458]\n",
      " [ 0.36813998  0.0943167  -0.813584  ]]\n",
      "180 0.58602047 [[-3.0270574   0.6912078   2.8655818 ]\n",
      " [-0.08970925 -0.2544806  -0.19803256]\n",
      " [ 0.37205788  0.0884243  -0.81160945]]\n",
      "190 0.5785631 [[-3.0661223   0.6868105   2.9090443 ]\n",
      " [-0.07982691 -0.24636522 -0.21603024]\n",
      " [ 0.37750748  0.08388484 -0.81251955]]\n",
      "200 0.5716715 [[-3.1043074   0.6831734   2.9508665 ]\n",
      " [-0.07151044 -0.23957218 -0.23113976]\n",
      " [ 0.38421768  0.08036168 -0.8157067 ]]\n",
      "Prediction: [2 2 2]\n",
      "Accuracy:  1.0\n"
     ]
    }
   ],
   "source": [
    "# Launch graph\n",
    "with tf.Session() as sess:\n",
    "    # Initialize TensorFlow variables\n",
    "    sess.run(tf.global_variables_initializer())\n",
    "    \n",
    "    for step in range(201):\n",
    "        cost_val, W_val, _ = sess.run([cost, W, optimizer], feed_dict={X: x_data, Y: y_data})\n",
    "        if step%10 == 0:\n",
    "            print(step, cost_val, W_val)\n",
    "    \n",
    "    # Predict\n",
    "    print(\"Prediction:\", sess.run(prediction, feed_dict={X:x_test}))\n",
    "    # Calculate the accuracy\n",
    "    print(\"Accuracy: \", sess.run(accuracy, feed_dict={X:x_test, Y:y_test}))"
   ]
  }
 ],
 "metadata": {
  "kernelspec": {
   "display_name": "Python 3",
   "language": "python",
   "name": "python3"
  },
  "language_info": {
   "codemirror_mode": {
    "name": "ipython",
    "version": 3
   },
   "file_extension": ".py",
   "mimetype": "text/x-python",
   "name": "python",
   "nbconvert_exporter": "python",
   "pygments_lexer": "ipython3",
   "version": "3.6.5"
  }
 },
 "nbformat": 4,
 "nbformat_minor": 2
}
