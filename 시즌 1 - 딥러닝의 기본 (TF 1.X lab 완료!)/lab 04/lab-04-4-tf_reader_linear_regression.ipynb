{
 "cells": [
  {
   "cell_type": "code",
   "execution_count": 1,
   "metadata": {},
   "outputs": [],
   "source": [
    "import tensorflow as tf\n",
    "tf.set_random_seed(777) # for reproducibility"
   ]
  },
  {
   "cell_type": "code",
   "execution_count": 2,
   "metadata": {},
   "outputs": [],
   "source": [
    "filename_queue = tf.train.string_input_producer(\n",
    "    ['../data/data-01-test-score.csv'], shuffle=False, name='filename_queue')"
   ]
  },
  {
   "cell_type": "code",
   "execution_count": 3,
   "metadata": {},
   "outputs": [],
   "source": [
    "reader = tf.TextLineReader()\n",
    "key, value = reader.read(filename_queue)"
   ]
  },
  {
   "cell_type": "code",
   "execution_count": 4,
   "metadata": {},
   "outputs": [],
   "source": [
    "# Default values, in case of empty columns. Also specifies the type of the\n",
    "# decoded result.\n",
    "record_defaults = [[0.], [0.], [0.], [0.]]\n",
    "xy = tf.decode_csv(value, record_defaults=record_defaults)"
   ]
  },
  {
   "cell_type": "code",
   "execution_count": 5,
   "metadata": {},
   "outputs": [],
   "source": [
    "# collect batches of csv in\n",
    "train_x_batch, train_y_batch = \\\n",
    "    tf.train.batch([xy[0:-1],xy[-1:]], batch_size=10)"
   ]
  },
  {
   "cell_type": "code",
   "execution_count": 6,
   "metadata": {},
   "outputs": [],
   "source": [
    "# placeholders for a tensor that will be always fed.\n",
    "X = tf.placeholder(tf.float32, shape=[None, 3])\n",
    "Y = tf.placeholder(tf.float32, shape=[None, 1])"
   ]
  },
  {
   "cell_type": "code",
   "execution_count": 7,
   "metadata": {},
   "outputs": [],
   "source": [
    "W = tf.Variable(tf.random_normal([3,1]), name='weight')\n",
    "b = tf.Variable(tf.random_normal([1]), name='bias')"
   ]
  },
  {
   "cell_type": "code",
   "execution_count": 8,
   "metadata": {},
   "outputs": [],
   "source": [
    "# Hypothesis\n",
    "hypothesis = tf.matmul(X,W) + b"
   ]
  },
  {
   "cell_type": "code",
   "execution_count": 9,
   "metadata": {},
   "outputs": [],
   "source": [
    "# Simplified cost/loss function\n",
    "cost = tf.reduce_mean(tf.square(hypothesis - Y))"
   ]
  },
  {
   "cell_type": "code",
   "execution_count": 10,
   "metadata": {},
   "outputs": [],
   "source": [
    "# Minimize\n",
    "optimizer = tf.train.GradientDescentOptimizer(learning_rate=1e-5)\n",
    "train = optimizer.minimize(cost)"
   ]
  },
  {
   "cell_type": "code",
   "execution_count": 11,
   "metadata": {},
   "outputs": [],
   "source": [
    "# Launch the graph in a session\n",
    "sess = tf.Session()\n",
    "# Initializes global variables in the graph\n",
    "sess.run(tf.global_variables_initializer())"
   ]
  },
  {
   "cell_type": "code",
   "execution_count": 12,
   "metadata": {},
   "outputs": [],
   "source": [
    "# Start populating the filename queue.\n",
    "coord = tf.train.Coordinator()\n",
    "threads = tf.train.start_queue_runners(sess=sess, coord=coord)"
   ]
  },
  {
   "cell_type": "code",
   "execution_count": 13,
   "metadata": {},
   "outputs": [],
   "source": [
    "# x_batch와 y_batch가 어떻게 변하는지 보기 위함\n",
    "show_X=[]\n",
    "show_Y=[]"
   ]
  },
  {
   "cell_type": "code",
   "execution_count": 14,
   "metadata": {},
   "outputs": [
    {
     "name": "stdout",
     "output_type": "stream",
     "text": [
      "0 Cost:  7070.9795 \n",
      "Prediction:\n",
      " [[235.22784]\n",
      " [282.40146]\n",
      " [278.39618]\n",
      " [303.91577]\n",
      " [214.62396]\n",
      " [159.15425]\n",
      " [228.5351 ]\n",
      " [170.92644]\n",
      " [264.65048]\n",
      " [246.59116]]\n",
      "100 Cost:  4.5778847 \n",
      "Prediction:\n",
      " [[154.07788 ]\n",
      " [184.91042 ]\n",
      " [182.31238 ]\n",
      " [199.29498 ]\n",
      " [140.26404 ]\n",
      " [104.370346]\n",
      " [150.24283 ]\n",
      " [112.912056]\n",
      " [173.57487 ]\n",
      " [162.28497 ]]\n",
      "200 Cost:  4.5252004 \n",
      "Prediction:\n",
      " [[154.04268 ]\n",
      " [184.92453 ]\n",
      " [182.29524 ]\n",
      " [199.30025 ]\n",
      " [140.26907 ]\n",
      " [104.41749 ]\n",
      " [150.26643 ]\n",
      " [112.955414]\n",
      " [173.63036 ]\n",
      " [162.39421 ]]\n",
      "300 Cost:  4.478921 \n",
      "Prediction:\n",
      " [[154.00916]\n",
      " [184.93784]\n",
      " [182.27888]\n",
      " [199.30531]\n",
      " [140.27364]\n",
      " [104.46238]\n",
      " [150.2892 ]\n",
      " [112.99722]\n",
      " [173.68315]\n",
      " [162.49847]]\n",
      "400 Cost:  4.4383965 \n",
      "Prediction:\n",
      " [[153.97728]\n",
      " [184.95041]\n",
      " [182.26326]\n",
      " [199.31021]\n",
      " [140.27776]\n",
      " [104.50511]\n",
      " [150.31113]\n",
      " [113.03753]\n",
      " [173.73344]\n",
      " [162.598  ]]\n",
      "500 Cost:  4.4030247 \n",
      "Prediction:\n",
      " [[153.94693]\n",
      " [184.96225]\n",
      " [182.24832]\n",
      " [199.31491]\n",
      " [140.28145]\n",
      " [104.54581]\n",
      " [150.33224]\n",
      " [113.07639]\n",
      " [173.78133]\n",
      " [162.69301]]\n",
      "600 Cost:  4.3723226 \n",
      "Prediction:\n",
      " [[153.91808]\n",
      " [184.97342]\n",
      " [182.23405]\n",
      " [199.31947]\n",
      " [140.28476]\n",
      " [104.58455]\n",
      " [150.35263]\n",
      " [113.11388]\n",
      " [173.82692]\n",
      " [162.7837 ]]\n",
      "700 Cost:  4.3457623 \n",
      "Prediction:\n",
      " [[153.89061]\n",
      " [184.98392]\n",
      " [182.22041]\n",
      " [199.32387]\n",
      " [140.28767]\n",
      " [104.62141]\n",
      " [150.37227]\n",
      " [113.15003]\n",
      " [173.87032]\n",
      " [162.87027]]\n",
      "800 Cost:  4.3229384 \n",
      "Prediction:\n",
      " [[153.86449 ]\n",
      " [184.99382 ]\n",
      " [182.2074  ]\n",
      " [199.3281  ]\n",
      " [140.29027 ]\n",
      " [104.656494]\n",
      " [150.39122 ]\n",
      " [113.184906]\n",
      " [173.9116  ]\n",
      " [162.9529  ]]\n",
      "900 Cost:  4.3034487 \n",
      "Prediction:\n",
      " [[153.83965]\n",
      " [185.0031 ]\n",
      " [182.19495]\n",
      " [199.33217]\n",
      " [140.2925 ]\n",
      " [104.68988]\n",
      " [150.40945]\n",
      " [113.21854]\n",
      " [173.95091]\n",
      " [163.03175]]\n",
      "1000 Cost:  4.286961 \n",
      "Prediction:\n",
      " [[153.81602]\n",
      " [185.01187]\n",
      " [182.18306]\n",
      " [199.33612]\n",
      " [140.29445]\n",
      " [104.72166]\n",
      " [150.42708]\n",
      " [113.25099]\n",
      " [173.98833]\n",
      " [163.10704]]\n",
      "1100 Cost:  4.2731247 \n",
      "Prediction:\n",
      " [[153.79355]\n",
      " [185.02008]\n",
      " [182.17169]\n",
      " [199.3399 ]\n",
      " [140.29608]\n",
      " [104.7519 ]\n",
      " [150.44403]\n",
      " [113.28231]\n",
      " [174.0239 ]\n",
      " [163.17886]]\n",
      "1200 Cost:  4.261681 \n",
      "Prediction:\n",
      " [[153.77219]\n",
      " [185.0278 ]\n",
      " [182.16083]\n",
      " [199.3436 ]\n",
      " [140.29745]\n",
      " [104.78066]\n",
      " [150.46042]\n",
      " [113.31254]\n",
      " [174.05777]\n",
      " [163.24744]]\n",
      "1300 Cost:  4.2523375 \n",
      "Prediction:\n",
      " [[153.75189]\n",
      " [185.03505]\n",
      " [182.15045]\n",
      " [199.34712]\n",
      " [140.29857]\n",
      " [104.80802]\n",
      " [150.47621]\n",
      " [113.3417 ]\n",
      " [174.08998]\n",
      " [163.31287]]\n",
      "1400 Cost:  4.2448897 \n",
      "Prediction:\n",
      " [[153.73259]\n",
      " [185.04185]\n",
      " [182.14055]\n",
      " [199.35056]\n",
      " [140.29945]\n",
      " [104.83405]\n",
      " [150.49146]\n",
      " [113.36986]\n",
      " [174.12064]\n",
      " [163.37534]]\n",
      "1500 Cost:  4.239093 \n",
      "Prediction:\n",
      " [[153.71423 ]\n",
      " [185.04822 ]\n",
      " [182.13107 ]\n",
      " [199.35385 ]\n",
      " [140.30011 ]\n",
      " [104.8588  ]\n",
      " [150.50616 ]\n",
      " [113.397026]\n",
      " [174.14978 ]\n",
      " [163.43494 ]]\n",
      "1600 Cost:  4.234767 \n",
      "Prediction:\n",
      " [[153.69681]\n",
      " [185.05418]\n",
      " [182.12201]\n",
      " [199.35703]\n",
      " [140.30055]\n",
      " [104.88235]\n",
      " [150.52034]\n",
      " [113.42326]\n",
      " [174.1775 ]\n",
      " [163.4918 ]]\n",
      "1700 Cost:  4.2317634 \n",
      "Prediction:\n",
      " [[153.68024]\n",
      " [185.05977]\n",
      " [182.11337]\n",
      " [199.3601 ]\n",
      " [140.30078]\n",
      " [104.90473]\n",
      " [150.53403]\n",
      " [113.4486 ]\n",
      " [174.20387]\n",
      " [163.5461 ]]\n",
      "1800 Cost:  4.2298894 \n",
      "Prediction:\n",
      " [[153.6645 ]\n",
      " [185.06497]\n",
      " [182.10509]\n",
      " [199.36308]\n",
      " [140.30086]\n",
      " [104.926  ]\n",
      " [150.54726]\n",
      " [113.47305]\n",
      " [174.22894]\n",
      " [163.59789]]\n",
      "1900 Cost:  4.2290454 \n",
      "Prediction:\n",
      " [[153.64957 ]\n",
      " [185.06985 ]\n",
      " [182.0972  ]\n",
      " [199.36597 ]\n",
      " [140.30075 ]\n",
      " [104.946236]\n",
      " [150.56    ]\n",
      " [113.49667 ]\n",
      " [174.25278 ]\n",
      " [163.64732 ]]\n",
      "2000 Cost:  4.229059 \n",
      "Prediction:\n",
      " [[153.63536 ]\n",
      " [185.07439 ]\n",
      " [182.08965 ]\n",
      " [199.36873 ]\n",
      " [140.30048 ]\n",
      " [104.96546 ]\n",
      " [150.57231 ]\n",
      " [113.519485]\n",
      " [174.27542 ]\n",
      " [163.69449 ]]\n"
     ]
    }
   ],
   "source": [
    "for step in range(2001):\n",
    "    # 중요, x_batch와 y_batch는 sess.run을 통해 얻는다\n",
    "    x_batch, y_batch = sess.run([train_x_batch, train_y_batch])\n",
    "    \n",
    "    # x_batch와 y_batch가 어떻게 변하는지 보기 위함\n",
    "    show_X.append(x_batch)\n",
    "    show_Y.append(y_batch)\n",
    "    \n",
    "    cost_val, hy_val, _ = sess.run(\n",
    "        [cost, hypothesis, train], feed_dict={X: x_batch, Y: y_batch})\n",
    "    if step % 100 == 0:\n",
    "        print(step, \"Cost: \", cost_val, \"\\nPrediction:\\n\", hy_val)"
   ]
  },
  {
   "cell_type": "markdown",
   "metadata": {},
   "source": [
    "데이터 25개 10개씩 batch니까 3번이면 다 돌고도 5개가 남는다\n",
    "밑에서 진짜로 순환하면서 5개가 중복으로 들어있는 것을 볼 수 있다."
   ]
  },
  {
   "cell_type": "code",
   "execution_count": 15,
   "metadata": {
    "scrolled": false
   },
   "outputs": [
    {
     "data": {
      "text/plain": [
       "[array([[ 73.,  80.,  75.],\n",
       "        [ 93.,  88.,  93.],\n",
       "        [ 89.,  91.,  90.],\n",
       "        [ 96.,  98., 100.],\n",
       "        [ 73.,  66.,  70.],\n",
       "        [ 53.,  46.,  55.],\n",
       "        [ 69.,  74.,  77.],\n",
       "        [ 47.,  56.,  60.],\n",
       "        [ 87.,  79.,  90.],\n",
       "        [ 79.,  70.,  88.]], dtype=float32), array([[69., 70., 73.],\n",
       "        [70., 65., 74.],\n",
       "        [93., 95., 91.],\n",
       "        [79., 80., 73.],\n",
       "        [70., 73., 78.],\n",
       "        [93., 89., 96.],\n",
       "        [78., 75., 68.],\n",
       "        [81., 90., 93.],\n",
       "        [88., 92., 86.],\n",
       "        [78., 83., 77.]], dtype=float32), array([[ 82.,  86.,  90.],\n",
       "        [ 86.,  82.,  89.],\n",
       "        [ 78.,  83.,  85.],\n",
       "        [ 76.,  83.,  71.],\n",
       "        [ 96.,  93.,  95.],\n",
       "        [ 73.,  80.,  75.],\n",
       "        [ 93.,  88.,  93.],\n",
       "        [ 89.,  91.,  90.],\n",
       "        [ 96.,  98., 100.],\n",
       "        [ 73.,  66.,  70.]], dtype=float32)]"
      ]
     },
     "execution_count": 15,
     "metadata": {},
     "output_type": "execute_result"
    }
   ],
   "source": [
    "show_X[:3]"
   ]
  },
  {
   "cell_type": "code",
   "execution_count": 16,
   "metadata": {},
   "outputs": [
    {
     "data": {
      "text/plain": [
       "[array([[152.],\n",
       "        [185.],\n",
       "        [180.],\n",
       "        [196.],\n",
       "        [142.],\n",
       "        [101.],\n",
       "        [149.],\n",
       "        [115.],\n",
       "        [175.],\n",
       "        [164.]], dtype=float32), array([[141.],\n",
       "        [141.],\n",
       "        [184.],\n",
       "        [152.],\n",
       "        [148.],\n",
       "        [192.],\n",
       "        [147.],\n",
       "        [183.],\n",
       "        [177.],\n",
       "        [159.]], dtype=float32), array([[177.],\n",
       "        [175.],\n",
       "        [175.],\n",
       "        [149.],\n",
       "        [192.],\n",
       "        [152.],\n",
       "        [185.],\n",
       "        [180.],\n",
       "        [196.],\n",
       "        [142.]], dtype=float32)]"
      ]
     },
     "execution_count": 16,
     "metadata": {},
     "output_type": "execute_result"
    }
   ],
   "source": [
    "show_Y[:3]"
   ]
  },
  {
   "cell_type": "code",
   "execution_count": 17,
   "metadata": {},
   "outputs": [],
   "source": [
    "coord.request_stop()\n",
    "coord.join(threads)"
   ]
  },
  {
   "cell_type": "code",
   "execution_count": 18,
   "metadata": {},
   "outputs": [
    {
     "name": "stdout",
     "output_type": "stream",
     "text": [
      "Your score will be  [[185.3353]]\n",
      "Other scores will be  [[178.36246]\n",
      " [177.03687]]\n"
     ]
    }
   ],
   "source": [
    "# Ask my score\n",
    "print(\"Your score will be \",\n",
    "      sess.run(hypothesis, feed_dict={X: [[100, 70, 101]]}))\n",
    "\n",
    "print(\"Other scores will be \",\n",
    "      sess.run(hypothesis, feed_dict={X: [[60, 70, 110], [90, 100, 80]]}))"
   ]
  }
 ],
 "metadata": {
  "kernelspec": {
   "display_name": "Python 3",
   "language": "python",
   "name": "python3"
  },
  "language_info": {
   "codemirror_mode": {
    "name": "ipython",
    "version": 3
   },
   "file_extension": ".py",
   "mimetype": "text/x-python",
   "name": "python",
   "nbconvert_exporter": "python",
   "pygments_lexer": "ipython3",
   "version": "3.6.5"
  }
 },
 "nbformat": 4,
 "nbformat_minor": 2
}
