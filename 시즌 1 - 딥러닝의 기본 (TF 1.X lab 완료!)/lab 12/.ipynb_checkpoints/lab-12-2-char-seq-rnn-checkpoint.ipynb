{
 "cells": [
  {
   "cell_type": "code",
   "execution_count": 1,
   "metadata": {},
   "outputs": [],
   "source": [
    "# Lab 12 Character Sequence RNN\n",
    "import tensorflow as tf\n",
    "import numpy as np\n",
    "tf.set_random_seed(777)  # reproducibility"
   ]
  },
  {
   "cell_type": "code",
   "execution_count": 2,
   "metadata": {},
   "outputs": [],
   "source": [
    "sample = \" if you want you\"\n",
    "idx2char = list(set(sample))  # index -> char\n",
    "char2idx = {c: i for i, c in enumerate(idx2char)}  # char -> idex"
   ]
  },
  {
   "cell_type": "code",
   "execution_count": 3,
   "metadata": {},
   "outputs": [],
   "source": [
    "# hyper parameters\n",
    "dic_size = len(char2idx)  # RNN input size (one hot size)\n",
    "hidden_size = len(char2idx)  # RNN output size\n",
    "num_classes = len(char2idx)  # final output size (RNN or softmax, etc.)\n",
    "batch_size = 1  # one sample data, one batch\n",
    "sequence_length = len(sample) - 1  # number of lstm rollings (unit #)\n",
    "learning_rate = 0.1"
   ]
  },
  {
   "cell_type": "code",
   "execution_count": 4,
   "metadata": {},
   "outputs": [],
   "source": [
    "sample_idx = [char2idx[c] for c in sample]  # char to index\n",
    "x_data = [sample_idx[:-1]]  # X data sample (0 ~ n-1) hello: hell\n",
    "y_data = [sample_idx[1:]]   # Y label sample (1 ~ n) hello: ello"
   ]
  },
  {
   "cell_type": "code",
   "execution_count": 5,
   "metadata": {},
   "outputs": [],
   "source": [
    "X = tf.placeholder(tf.int32, [None, sequence_length])  # X data\n",
    "Y = tf.placeholder(tf.int32, [None, sequence_length])  # Y label"
   ]
  },
  {
   "cell_type": "code",
   "execution_count": 6,
   "metadata": {},
   "outputs": [
    {
     "name": "stdout",
     "output_type": "stream",
     "text": [
      "WARNING:tensorflow:From <ipython-input-6-552346adc015>:3: BasicLSTMCell.__init__ (from tensorflow.python.ops.rnn_cell_impl) is deprecated and will be removed in a future version.\n",
      "Instructions for updating:\n",
      "This class is deprecated, please use tf.nn.rnn_cell.LSTMCell, which supports all the feature this cell currently has. Please replace the existing code with tf.nn.rnn_cell.LSTMCell(name='basic_lstm_cell').\n"
     ]
    }
   ],
   "source": [
    "x_one_hot = tf.one_hot(X, num_classes)  # one hot: 1 -> 0 1 0 0 0 0 0 0 0 0\n",
    "cell = tf.contrib.rnn.BasicLSTMCell(\n",
    "    num_units=hidden_size, state_is_tuple=True)\n",
    "initial_state = cell.zero_state(batch_size, tf.float32)\n",
    "outputs, _states = tf.nn.dynamic_rnn(\n",
    "    cell, x_one_hot, initial_state=initial_state, dtype=tf.float32)"
   ]
  },
  {
   "cell_type": "code",
   "execution_count": 7,
   "metadata": {},
   "outputs": [],
   "source": [
    "# FC layer\n",
    "X_for_fc = tf.reshape(outputs, [-1, hidden_size])\n",
    "outputs = tf.contrib.layers.fully_connected(X_for_fc, num_classes, activation_fn=None)"
   ]
  },
  {
   "cell_type": "code",
   "execution_count": 8,
   "metadata": {},
   "outputs": [],
   "source": [
    "# reshape out for sequence_loss\n",
    "outputs = tf.reshape(outputs, [batch_size, sequence_length, num_classes])\n",
    "\n",
    "weights = tf.ones([batch_size, sequence_length])\n",
    "sequence_loss = tf.contrib.seq2seq.sequence_loss(\n",
    "    logits=outputs, targets=Y, weights=weights)\n",
    "loss = tf.reduce_mean(sequence_loss)\n",
    "train = tf.train.AdamOptimizer(learning_rate=learning_rate).minimize(loss)\n",
    "\n",
    "prediction = tf.argmax(outputs, axis=2)"
   ]
  },
  {
   "cell_type": "code",
   "execution_count": 9,
   "metadata": {},
   "outputs": [
    {
     "name": "stdout",
     "output_type": "stream",
     "text": [
      "0 loss: 2.309305 Prediction: y    u        u\n",
      "1 loss: 2.1523795 Prediction: y              \n",
      "2 loss: 1.9934529 Prediction: y  you  y   you\n",
      "3 loss: 1.8020395 Prediction: y  you uy   you\n",
      "4 loss: 1.5539763 Prediction: y  youuua   you\n",
      "5 loss: 1.292335 Prediction: y  you wan  you\n",
      "6 loss: 1.0381225 Prediction: y  you wan  you\n",
      "7 loss: 0.7911399 Prediction: wf you wan  you\n",
      "8 loss: 0.5890707 Prediction: wf you want you\n",
      "9 loss: 0.419296 Prediction: wf you want you\n",
      "10 loss: 0.30553794 Prediction: if you want you\n",
      "11 loss: 0.22138374 Prediction: if you want you\n",
      "12 loss: 0.1539827 Prediction: if you want you\n",
      "13 loss: 0.101972185 Prediction: if you want you\n",
      "14 loss: 0.06616645 Prediction: if you want you\n",
      "15 loss: 0.04330542 Prediction: if you want you\n",
      "16 loss: 0.028917253 Prediction: if you want you\n",
      "17 loss: 0.019798953 Prediction: if you want you\n",
      "18 loss: 0.013927463 Prediction: if you want you\n",
      "19 loss: 0.0100549 Prediction: if you want you\n",
      "20 loss: 0.0074459105 Prediction: if you want you\n",
      "21 loss: 0.00566011 Prediction: if you want you\n",
      "22 loss: 0.0044196984 Prediction: if you want you\n",
      "23 loss: 0.0035423872 Prediction: if you want you\n",
      "24 loss: 0.002906718 Prediction: if you want you\n",
      "25 loss: 0.002432378 Prediction: if you want you\n",
      "26 loss: 0.0020677769 Prediction: if you want you\n",
      "27 loss: 0.0017801191 Prediction: if you want you\n",
      "28 loss: 0.0015485449 Prediction: if you want you\n",
      "29 loss: 0.0013593631 Prediction: if you want you\n",
      "30 loss: 0.0012031528 Prediction: if you want you\n",
      "31 loss: 0.0010732107 Prediction: if you want you\n",
      "32 loss: 0.0009645054 Prediction: if you want you\n",
      "33 loss: 0.00087318936 Prediction: if you want you\n",
      "34 loss: 0.0007963327 Prediction: if you want you\n",
      "35 loss: 0.0007313841 Prediction: if you want you\n",
      "36 loss: 0.00067638594 Prediction: if you want you\n",
      "37 loss: 0.0006295859 Prediction: if you want you\n",
      "38 loss: 0.00058960397 Prediction: if you want you\n",
      "39 loss: 0.0005551153 Prediction: if you want you\n",
      "40 loss: 0.0005252946 Prediction: if you want you\n",
      "41 loss: 0.0004993008 Prediction: if you want you\n",
      "42 loss: 0.00047649085 Prediction: if you want you\n",
      "43 loss: 0.0004563728 Prediction: if you want you\n",
      "44 loss: 0.00043853372 Prediction: if you want you\n",
      "45 loss: 0.00042262435 Prediction: if you want you\n",
      "46 loss: 0.00040836676 Prediction: if you want you\n",
      "47 loss: 0.00039551486 Prediction: if you want you\n",
      "48 loss: 0.00038389393 Prediction: if you want you\n",
      "49 loss: 0.0003733452 Prediction: if you want you\n"
     ]
    },
    {
     "data": {
      "text/plain": [
       "'\\n0 loss: 2.35377 Prediction: uuuuuuuuuuuuuuu\\n1 loss: 2.21383 Prediction: yy you y    you\\n2 loss: 2.04317 Prediction: yy yoo       ou\\n3 loss: 1.85869 Prediction: yy  ou      uou\\n4 loss: 1.65096 Prediction: yy you  a   you\\n5 loss: 1.40243 Prediction: yy you yan  you\\n6 loss: 1.12986 Prediction: yy you wann you\\n7 loss: 0.907699 Prediction: yy you want you\\n8 loss: 0.687401 Prediction: yf you want you\\n9 loss: 0.508868 Prediction: yf you want you\\n10 loss: 0.379423 Prediction: yf you want you\\n11 loss: 0.282956 Prediction: if you want you\\n12 loss: 0.208561 Prediction: if you want you\\n\\n...\\n\\n'"
      ]
     },
     "execution_count": 9,
     "metadata": {},
     "output_type": "execute_result"
    }
   ],
   "source": [
    "with tf.Session() as sess:\n",
    "    sess.run(tf.global_variables_initializer())\n",
    "    for i in range(50):\n",
    "        l, _ = sess.run([loss, train], feed_dict={X: x_data, Y: y_data})\n",
    "        result = sess.run(prediction, feed_dict={X: x_data})\n",
    "\n",
    "        # print char using dic\n",
    "        result_str = [idx2char[c] for c in np.squeeze(result)]\n",
    "\n",
    "        print(i, \"loss:\", l, \"Prediction:\", ''.join(result_str))\n",
    "\n",
    "\n",
    "'''\n",
    "0 loss: 2.35377 Prediction: uuuuuuuuuuuuuuu\n",
    "1 loss: 2.21383 Prediction: yy you y    you\n",
    "2 loss: 2.04317 Prediction: yy yoo       ou\n",
    "3 loss: 1.85869 Prediction: yy  ou      uou\n",
    "4 loss: 1.65096 Prediction: yy you  a   you\n",
    "5 loss: 1.40243 Prediction: yy you yan  you\n",
    "6 loss: 1.12986 Prediction: yy you wann you\n",
    "7 loss: 0.907699 Prediction: yy you want you\n",
    "8 loss: 0.687401 Prediction: yf you want you\n",
    "9 loss: 0.508868 Prediction: yf you want you\n",
    "10 loss: 0.379423 Prediction: yf you want you\n",
    "11 loss: 0.282956 Prediction: if you want you\n",
    "12 loss: 0.208561 Prediction: if you want you\n",
    "\n",
    "...\n",
    "\n",
    "'''"
   ]
  }
 ],
 "metadata": {
  "kernelspec": {
   "display_name": "Python 3",
   "language": "python",
   "name": "python3"
  },
  "language_info": {
   "codemirror_mode": {
    "name": "ipython",
    "version": 3
   },
   "file_extension": ".py",
   "mimetype": "text/x-python",
   "name": "python",
   "nbconvert_exporter": "python",
   "pygments_lexer": "ipython3",
   "version": "3.6.7"
  }
 },
 "nbformat": 4,
 "nbformat_minor": 2
}
