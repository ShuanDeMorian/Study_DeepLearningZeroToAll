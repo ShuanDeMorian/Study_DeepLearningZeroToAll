{
 "cells": [
  {
   "cell_type": "markdown",
   "metadata": {},
   "source": [
    "# Lab-03-2 Minimizing Cost Gradinet Update"
   ]
  },
  {
   "cell_type": "code",
   "execution_count": 1,
   "metadata": {
    "collapsed": true
   },
   "outputs": [],
   "source": [
    "import tensorflow as tf\n",
    "tf.set_random_seed(777)  # for reproducibility"
   ]
  },
  {
   "cell_type": "markdown",
   "metadata": {},
   "source": [
    "## X and Y data"
   ]
  },
  {
   "cell_type": "code",
   "execution_count": 2,
   "metadata": {
    "collapsed": true
   },
   "outputs": [],
   "source": [
    "x_data = [1, 2, 3]\n",
    "y_data = [1, 2, 3]"
   ]
  },
  {
   "cell_type": "markdown",
   "metadata": {},
   "source": [
    "## Variable"
   ]
  },
  {
   "cell_type": "code",
   "execution_count": 3,
   "metadata": {
    "collapsed": true
   },
   "outputs": [],
   "source": [
    "# Try to find values for W and b to compute y_data = W * x_data + b\n",
    "# We know that W should be 1 and b should be 0\n",
    "# But let's use TensorFlow to figure it out\n",
    "W = tf.Variable(tf.random_normal([1]), name='weight')\n",
    "\n",
    "X = tf.placeholder(tf.float32)\n",
    "Y = tf.placeholder(tf.float32)"
   ]
  },
  {
   "cell_type": "markdown",
   "metadata": {},
   "source": [
    "## Our Model"
   ]
  },
  {
   "cell_type": "code",
   "execution_count": 4,
   "metadata": {
    "collapsed": true
   },
   "outputs": [],
   "source": [
    "# Our hypothesis for linear model X * W\n",
    "hypothesis = X * W\n",
    "\n",
    "# cost/loss function\n",
    "cost = tf.reduce_mean(tf.square(hypothesis - Y))"
   ]
  },
  {
   "cell_type": "markdown",
   "metadata": {},
   "source": [
    "## Minimize"
   ]
  },
  {
   "cell_type": "code",
   "execution_count": 5,
   "metadata": {
    "collapsed": true
   },
   "outputs": [],
   "source": [
    "# Minimize: Gradient Descent using derivative: W -= learning_rate * derivative\n",
    "learning_rate = 0.1\n",
    "gradient = tf.reduce_mean((W * X - Y) * X)\n",
    "descent = W - learning_rate * gradient\n",
    "update = W.assign(descent)"
   ]
  },
  {
   "cell_type": "markdown",
   "metadata": {},
   "source": [
    "## Prepare session"
   ]
  },
  {
   "cell_type": "code",
   "execution_count": 6,
   "metadata": {
    "collapsed": true
   },
   "outputs": [],
   "source": [
    "# Launch the graph in a session.\n",
    "sess = tf.Session()\n",
    "# Initializes global variables in the graph.\n",
    "sess.run(tf.global_variables_initializer())"
   ]
  },
  {
   "cell_type": "markdown",
   "metadata": {},
   "source": [
    "## Fit the line"
   ]
  },
  {
   "cell_type": "code",
   "execution_count": 7,
   "metadata": {},
   "outputs": [
    {
     "name": "stdout",
     "output_type": "stream",
     "text": [
      "0 1.93919 [ 1.64462376]\n",
      "1 0.551591 [ 1.34379935]\n",
      "2 0.156897 [ 1.18335962]\n",
      "3 0.0446285 [ 1.09779179]\n",
      "4 0.0126943 [ 1.05215561]\n",
      "5 0.00361082 [ 1.0278163]\n",
      "6 0.00102708 [ 1.01483536]\n",
      "7 0.000292144 [ 1.00791216]\n",
      "8 8.30968e-05 [ 1.00421977]\n",
      "9 2.36361e-05 [ 1.00225055]\n",
      "10 6.72385e-06 [ 1.00120032]\n",
      "11 1.91239e-06 [ 1.00064015]\n",
      "12 5.43968e-07 [ 1.00034142]\n",
      "13 1.54591e-07 [ 1.00018203]\n",
      "14 4.39416e-08 [ 1.00009704]\n",
      "15 1.24913e-08 [ 1.00005174]\n",
      "16 3.5322e-09 [ 1.00002754]\n",
      "17 9.99824e-10 [ 1.00001466]\n",
      "18 2.88878e-10 [ 1.00000787]\n",
      "19 8.02487e-11 [ 1.00000417]\n",
      "20 2.34053e-11 [ 1.00000226]\n"
     ]
    }
   ],
   "source": [
    "for step in range(21):\n",
    "    sess.run(update, feed_dict={X: x_data, Y: y_data})\n",
    "    print(step, sess.run(cost, feed_dict={X: x_data, Y: y_data}), sess.run(W))"
   ]
  },
  {
   "cell_type": "markdown",
   "metadata": {},
   "source": [
    "```\n",
    "0 5.81756 [ 1.64462376]\n",
    "1 1.65477 [ 1.34379935]\n",
    "2 0.470691 [ 1.18335962]\n",
    "3 0.133885 [ 1.09779179]\n",
    "4 0.0380829 [ 1.05215561]\n",
    "5 0.0108324 [ 1.0278163]\n",
    "6 0.00308123 [ 1.01483536]\n",
    "7 0.000876432 [ 1.00791216]\n",
    "8 0.00024929 [ 1.00421977]\n",
    "9 7.09082e-05 [ 1.00225055]\n",
    "10 2.01716e-05 [ 1.00120032]\n",
    "11 5.73716e-06 [ 1.00064015]\n",
    "12 1.6319e-06 [ 1.00034142]\n",
    "13 4.63772e-07 [ 1.00018203]\n",
    "14 1.31825e-07 [ 1.00009704]\n",
    "15 3.74738e-08 [ 1.00005174]\n",
    "16 1.05966e-08 [ 1.00002754]\n",
    "17 2.99947e-09 [ 1.00001466]\n",
    "18 8.66635e-10 [ 1.00000787]\n",
    "19 2.40746e-10 [ 1.00000417]\n",
    "20 7.02158e-11 [ 1.00000226]\n",
    "```"
   ]
  },
  {
   "cell_type": "markdown",
   "metadata": {},
   "source": [
    "# 안 보고 작성하기"
   ]
  },
  {
   "cell_type": "code",
   "execution_count": 1,
   "metadata": {},
   "outputs": [],
   "source": [
    "import tensorflow as tf\n",
    "tf.set_random_seed(777)  # for reproducibility"
   ]
  },
  {
   "cell_type": "code",
   "execution_count": 2,
   "metadata": {},
   "outputs": [],
   "source": [
    "x_data = [1, 2, 3]\n",
    "y_data = [1, 2, 3]"
   ]
  },
  {
   "cell_type": "code",
   "execution_count": 4,
   "metadata": {},
   "outputs": [],
   "source": [
    "W = tf.Variable(tf.random_normal([1]),name='weight')\n",
    " \n",
    "X = tf.placeholder(tf.float32)\n",
    "Y = tf.placeholder(tf.float32)"
   ]
  },
  {
   "cell_type": "code",
   "execution_count": 5,
   "metadata": {},
   "outputs": [],
   "source": [
    "hypothesis = W * X\n",
    "cost = tf.reduce_mean(tf.square(hypothesis-Y))"
   ]
  },
  {
   "cell_type": "code",
   "execution_count": 6,
   "metadata": {},
   "outputs": [],
   "source": [
    "learning_rate = 0.1\n",
    "gradient=tf.reduce_mean((W*X-Y)*X)\n",
    "descent = W - learning_rate * gradient\n",
    "update = W.assign(descent)"
   ]
  },
  {
   "cell_type": "code",
   "execution_count": 14,
   "metadata": {},
   "outputs": [],
   "source": [
    "sess = tf.Session()\n",
    "sess.run(tf.global_variables_initializer())"
   ]
  },
  {
   "cell_type": "code",
   "execution_count": 15,
   "metadata": {},
   "outputs": [
    {
     "name": "stdout",
     "output_type": "stream",
     "text": [
      "0 4.3989253 [0.02911025]\n",
      "1 1.2512498 [0.48219216]\n",
      "2 0.3559111 [0.7238358]\n",
      "3 0.10123688 [0.85271245]\n",
      "4 0.02879628 [0.9214466]\n",
      "5 0.00819095 [0.95810485]\n",
      "6 0.002329862 [0.97765595]\n",
      "7 0.00066271424 [0.9880832]\n",
      "8 0.00018850477 [0.99364436]\n",
      "9 5.3620013e-05 [0.9966103]\n",
      "10 1.5252263e-05 [0.99819213]\n",
      "11 4.3388486e-06 [0.9990358]\n",
      "12 1.2342049e-06 [0.99948573]\n",
      "13 3.511892e-07 [0.9997257]\n",
      "14 9.980778e-08 [0.99985373]\n",
      "15 2.8417668e-08 [0.999922]\n",
      "16 8.08744e-09 [0.9999584]\n",
      "17 2.294314e-09 [0.9999778]\n",
      "18 6.4716704e-10 [0.9999882]\n",
      "19 1.8779645e-10 [0.9999937]\n",
      "20 5.199278e-11 [0.99999666]\n"
     ]
    }
   ],
   "source": [
    "for step in range(21):\n",
    "    sess.run(update, feed_dict={X: x_data, Y: y_data})\n",
    "    print(step, sess.run(cost, feed_dict={X: x_data, Y: y_data}), sess.run(W))"
   ]
  }
 ],
 "metadata": {
  "kernelspec": {
   "display_name": "Python 3",
   "language": "python",
   "name": "python3"
  },
  "language_info": {
   "codemirror_mode": {
    "name": "ipython",
    "version": 3
   },
   "file_extension": ".py",
   "mimetype": "text/x-python",
   "name": "python",
   "nbconvert_exporter": "python",
   "pygments_lexer": "ipython3",
   "version": "3.6.5"
  }
 },
 "nbformat": 4,
 "nbformat_minor": 2
}
