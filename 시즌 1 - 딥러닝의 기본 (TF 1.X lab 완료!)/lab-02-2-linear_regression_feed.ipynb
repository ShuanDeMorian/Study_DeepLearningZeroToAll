{
 "cells": [
  {
   "cell_type": "markdown",
   "metadata": {},
   "source": [
    "# Lab-02-2 linear regression feed"
   ]
  },
  {
   "cell_type": "code",
   "execution_count": null,
   "metadata": {},
   "outputs": [],
   "source": [
    "import tensorflow as tf\n",
    "tf.set_random_seed(777)  # for reprducibilty"
   ]
  },
  {
   "cell_type": "markdown",
   "metadata": {},
   "source": [
    "## Variable"
   ]
  },
  {
   "cell_type": "code",
   "execution_count": null,
   "metadata": {},
   "outputs": [],
   "source": [
    "# Try to find value for W and b to compute y_data = x_data * W + b  \n",
    "# We know that W should be 1 and b should be 0\n",
    "# But let's TensorFlow figure it out \n",
    "W = tf.Variable(tf.random_normal([1]), name='weight')\n",
    "b = tf.Variable(tf.random_normal([1]), name='bias')"
   ]
  },
  {
   "cell_type": "markdown",
   "metadata": {},
   "source": [
    "## X and Y data"
   ]
  },
  {
   "cell_type": "code",
   "execution_count": null,
   "metadata": {},
   "outputs": [],
   "source": [
    "#### Now we can use X and Y in place of x_data and y_data\n",
    "#### placeholders for a tensor that will be always fed using feed_dict\n",
    "#### See http://stackoverflow.com/questions/36693740/\n",
    "X = tf.placeholder(tf.float32, shape=[None])\n",
    "Y = tf.placeholder(tf.float32, shape=[None])"
   ]
  },
  {
   "cell_type": "markdown",
   "metadata": {},
   "source": [
    "## Our Model"
   ]
  },
  {
   "cell_type": "code",
   "execution_count": null,
   "metadata": {},
   "outputs": [],
   "source": [
    "# Out hypothesis XW+b\n",
    "hypothesis = X * W + b\n",
    "\n",
    "# cost/loss function\n",
    "cost = tf.reduce_mean(tf.square(hypothesis - Y))"
   ]
  },
  {
   "cell_type": "markdown",
   "metadata": {},
   "source": [
    "## Minimize"
   ]
  },
  {
   "cell_type": "code",
   "execution_count": null,
   "metadata": {},
   "outputs": [],
   "source": [
    "optimizer = tf.train.GradientDescentOptimizer(learning_rate=0.01)\n",
    "train = optimizer.minimize(cost)"
   ]
  },
  {
   "cell_type": "markdown",
   "metadata": {},
   "source": [
    "## Prepare session"
   ]
  },
  {
   "cell_type": "code",
   "execution_count": null,
   "metadata": {},
   "outputs": [],
   "source": [
    "# Launch the graph in a session.\n",
    "sess = tf.Session()\n",
    "# Initializes global variables in the graph.\n",
    "sess.run(tf.global_variables_initializer())"
   ]
  },
  {
   "cell_type": "markdown",
   "metadata": {},
   "source": [
    "## Fit the line"
   ]
  },
  {
   "cell_type": "code",
   "execution_count": null,
   "metadata": {},
   "outputs": [],
   "source": [
    "for step in range(2001):\n",
    "    cost_val, W_val, b_val, _ = \\\n",
    "        sess.run([cost, W, b, train],\n",
    "                 feed_dict={X: [1, 2, 3], Y: [1, 2, 3]})\n",
    "    if step % 200 == 0:\n",
    "        print(step, cost_val, W_val, b_val)\n"
   ]
  },
  {
   "cell_type": "markdown",
   "metadata": {},
   "source": [
    "#### Learns best fit W:[ 1.],  b:[ 0]\n",
    "```\n",
    "...\n",
    "1800 3.17767e-05 [ 1.00653136] [-0.01484741]\n",
    "2000 1.21343e-05 [ 1.00403607] [-0.00917497]\n",
    "```"
   ]
  },
  {
   "cell_type": "markdown",
   "metadata": {},
   "source": [
    "## Testing our model"
   ]
  },
  {
   "cell_type": "code",
   "execution_count": null,
   "metadata": {},
   "outputs": [],
   "source": [
    "print(sess.run(hypothesis, feed_dict={X: [5]}))\n",
    "print(sess.run(hypothesis, feed_dict={X: [2.5]}))\n",
    "print(sess.run(hypothesis, feed_dict={X: [1.5, 3.5]}))"
   ]
  },
  {
   "cell_type": "markdown",
   "metadata": {},
   "source": [
    "```\n",
    "[ 5.0110054]\n",
    "[ 2.50091505]\n",
    "[ 1.49687922  3.50495124]\n",
    "```"
   ]
  },
  {
   "cell_type": "markdown",
   "metadata": {},
   "source": [
    "## Fit the line with new training data"
   ]
  },
  {
   "cell_type": "code",
   "execution_count": null,
   "metadata": {},
   "outputs": [],
   "source": [
    "for step in range(2001):\n",
    "    cost_val, W_val, b_val, _ = \\\n",
    "        sess.run([cost, W, b, train],\n",
    "                 feed_dict={X: [1, 2, 3, 4, 5],\n",
    "                            Y: [2.1, 3.1, 4.1, 5.1, 6.1]})\n",
    "    if step % 200 == 0:\n",
    "        print(step, cost_val, W_val, b_val)"
   ]
  },
  {
   "cell_type": "markdown",
   "metadata": {},
   "source": [
    "## Testing our model"
   ]
  },
  {
   "cell_type": "code",
   "execution_count": null,
   "metadata": {},
   "outputs": [],
   "source": [
    "print(sess.run(hypothesis, feed_dict={X: [5]}))\n",
    "print(sess.run(hypothesis, feed_dict={X: [2.5]}))\n",
    "print(sess.run(hypothesis, feed_dict={X: [1.5, 3.5]}))"
   ]
  },
  {
   "cell_type": "markdown",
   "metadata": {},
   "source": [
    "```\n",
    "1960 3.32396e-07 [ 1.00037301] [ 1.09865296]\n",
    "1980 2.90429e-07 [ 1.00034881] [ 1.09874094]\n",
    "2000 2.5373e-07 [ 1.00032604] [ 1.09882331]\n",
    "[ 6.10045338]\n",
    "[ 3.59963846]\n",
    "[ 2.59931231  4.59996414]\n",
    "```"
   ]
  },
  {
   "cell_type": "markdown",
   "metadata": {},
   "source": [
    "# 안 보고 작성하기"
   ]
  },
  {
   "cell_type": "code",
   "execution_count": 1,
   "metadata": {},
   "outputs": [],
   "source": [
    "import tensorflow as tf"
   ]
  },
  {
   "cell_type": "code",
   "execution_count": 2,
   "metadata": {},
   "outputs": [],
   "source": [
    "W=tf.Variable(tf.random_normal([1]),name='weight')\n",
    "b=tf.Variable(tf.random_normal([1]),name='bias')"
   ]
  },
  {
   "cell_type": "code",
   "execution_count": 3,
   "metadata": {},
   "outputs": [],
   "source": [
    "x=tf.placeholder(tf.float32,shape=[None])\n",
    "y=tf.placeholder(tf.float32)"
   ]
  },
  {
   "cell_type": "code",
   "execution_count": 4,
   "metadata": {},
   "outputs": [],
   "source": [
    "hypothesis=W*x + b"
   ]
  },
  {
   "cell_type": "code",
   "execution_count": 5,
   "metadata": {},
   "outputs": [],
   "source": [
    "cost = tf.reduce_mean(tf.square(hypothesis-y))"
   ]
  },
  {
   "cell_type": "code",
   "execution_count": 6,
   "metadata": {},
   "outputs": [],
   "source": [
    "optimizer=tf.train.GradientDescentOptimizer(learning_rate=0.01)\n",
    "train=optimizer.minimize(cost)"
   ]
  },
  {
   "cell_type": "code",
   "execution_count": 7,
   "metadata": {},
   "outputs": [],
   "source": [
    "sess=tf.Session()\n",
    "sess.run(tf.global_variables_initializer())"
   ]
  },
  {
   "cell_type": "code",
   "execution_count": 8,
   "metadata": {
    "scrolled": false
   },
   "outputs": [
    {
     "name": "stdout",
     "output_type": "stream",
     "text": [
      "0 3.1559258 [0.04830488] [0.52168965]\n",
      "200 0.034167893 [0.7858294] [0.48686004]\n",
      "400 0.013046958 [0.86765563] [0.30084985]\n",
      "600 0.0049819658 [0.91821915] [0.18590687]\n",
      "800 0.0019023583 [0.94946456] [0.11487912]\n",
      "1000 0.0007264141 [0.9687721] [0.07098832]\n",
      "1200 0.0002773787 [0.9807032] [0.04386635]\n",
      "1400 0.00010591576 [0.9880757] [0.02710672]\n",
      "1600 4.044389e-05 [0.99263155] [0.01675032]\n",
      "1800 1.5442904e-05 [0.9954468] [0.01035058]\n",
      "2000 5.8969e-06 [0.99718636] [0.00639606]\n"
     ]
    }
   ],
   "source": [
    "'''\n",
    "기존에 하던 방식대로 하면 마지막 줄 print에 있는 sess,run에 feed_dict 안했다고 오류난다.\n",
    "for step in range(2001):\n",
    "    sess.run(train,feed_dict={x:[1],y:[1]})\n",
    "    if step%200 == 0:\n",
    "        print(step,sess.run(cost),sess.run(W),sess.run(b))\n",
    "''' \n",
    "\n",
    "for step in range(2001):\n",
    "    cost_val,W_val,b_val,_=sess.run([cost,W,b,train],\n",
    "                                    feed_dict={x: [1, 2, 3],\n",
    "                                               y: [1, 2, 3]})\n",
    "    if step%200 == 0:\n",
    "        print(step,cost_val,W_val,b_val)"
   ]
  },
  {
   "cell_type": "markdown",
   "metadata": {},
   "source": [
    "# test"
   ]
  },
  {
   "cell_type": "code",
   "execution_count": 9,
   "metadata": {},
   "outputs": [
    {
     "name": "stdout",
     "output_type": "stream",
     "text": [
      "[4.992328]\n",
      "[5.9895144]\n",
      "[6.986701 7.983887]\n"
     ]
    }
   ],
   "source": [
    "print(sess.run(hypothesis,feed_dict={x:[5]}))\n",
    "print(sess.run(hypothesis,feed_dict={x:[6]}))\n",
    "print(sess.run(hypothesis,feed_dict={x:[7,8]}))"
   ]
  },
  {
   "cell_type": "markdown",
   "metadata": {},
   "source": [
    "# 다른 값 넣기도 가능(W,b는 초기화가 안되어 위의 학습된 값을 가지고 있다)"
   ]
  },
  {
   "cell_type": "code",
   "execution_count": 10,
   "metadata": {},
   "outputs": [
    {
     "name": "stdout",
     "output_type": "stream",
     "text": [
      "0 1.2145183 [1.0634216] [0.02843696]\n",
      "200 0.04838156 [1.1423204] [0.586178]\n",
      "400 0.012483923 [1.0722941] [0.8389953]\n",
      "600 0.0032212485 [1.036723] [0.96741796]\n",
      "800 0.0008311769 [1.0186541] [1.0326526]\n",
      "1000 0.0002144671 [1.0094756] [1.06579]\n",
      "1200 5.533624e-05 [1.0048132] [1.0826229]\n",
      "1400 1.4276817e-05 [1.0024447] [1.0911734]\n",
      "1600 3.6834467e-06 [1.0012419] [1.0955164]\n",
      "1800 9.51165e-07 [1.0006311] [1.0977217]\n",
      "2000 2.4568254e-07 [1.0003209] [1.0988419]\n"
     ]
    }
   ],
   "source": [
    "# learning rate 0.1로 하니까 nan이 나오는데 0.01로 하니까 학습이 된다.\n",
    "\n",
    "for step in range(2001):\n",
    "    cost_val,W_val,b_val,_=sess.run([cost,W,b,train],\n",
    "                                    feed_dict={x: [1, 2, 3, 4, 5], \n",
    "                                               y: [2.1, 3.1, 4.1, 5.1, 6.1]})\n",
    "    if step%200 == 0:\n",
    "        print(step,cost_val,W_val,b_val)"
   ]
  },
  {
   "cell_type": "code",
   "execution_count": 11,
   "metadata": {},
   "outputs": [
    {
     "name": "stdout",
     "output_type": "stream",
     "text": [
      "[6.1004467]\n",
      "[7.100767]\n",
      "[8.101089 9.101409]\n"
     ]
    }
   ],
   "source": [
    "print(sess.run(hypothesis,feed_dict={x:[5]}))\n",
    "print(sess.run(hypothesis,feed_dict={x:[6]}))\n",
    "print(sess.run(hypothesis,feed_dict={x:[7,8]}))"
   ]
  },
  {
   "cell_type": "code",
   "execution_count": 12,
   "metadata": {},
   "outputs": [
    {
     "name": "stdout",
     "output_type": "stream",
     "text": [
      "0 1.0002515 [0.92029804] [1.0788394]\n",
      "200 0.043082103 [0.86112064] [0.7212817]\n",
      "400 0.018455978 [0.90910125] [0.5066387]\n",
      "600 0.007906372 [0.9405054] [0.36615115]\n",
      "800 0.0033870065 [0.9610599] [0.2742]\n",
      "1000 0.0014509677 [0.9745131] [0.21401648]\n",
      "1200 0.0006215718 [0.9833185] [0.17462538]\n",
      "1400 0.00026627476 [0.9890817] [0.14884347]\n",
      "1600 0.00011407102 [0.99285376] [0.13196881]\n",
      "1800 4.8866932e-05 [0.99532264] [0.12092404]\n",
      "2000 2.0933712e-05 [0.9969386] [0.11369516]\n"
     ]
    }
   ],
   "source": [
    "for step in range(2001):\n",
    "    cost_val,W_val,b_val,_=sess.run([cost,W,b,train],\n",
    "                                    feed_dict={x: [2, 3, 4, 5, 6], \n",
    "                                               y: [2.1, 3.1, 4.1, 5.1, 6.1]})\n",
    "    if step%200 == 0:\n",
    "        print(step,cost_val,W_val,b_val)"
   ]
  }
 ],
 "metadata": {
  "kernelspec": {
   "display_name": "Python 3",
   "language": "python",
   "name": "python3"
  },
  "language_info": {
   "codemirror_mode": {
    "name": "ipython",
    "version": 3
   },
   "file_extension": ".py",
   "mimetype": "text/x-python",
   "name": "python",
   "nbconvert_exporter": "python",
   "pygments_lexer": "ipython3",
   "version": "3.6.5"
  }
 },
 "nbformat": 4,
 "nbformat_minor": 2
}
