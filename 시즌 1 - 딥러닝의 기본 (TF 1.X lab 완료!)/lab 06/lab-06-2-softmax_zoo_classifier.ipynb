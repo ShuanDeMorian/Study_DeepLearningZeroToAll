{
 "cells": [
  {
   "cell_type": "code",
   "execution_count": 1,
   "metadata": {},
   "outputs": [],
   "source": [
    "import tensorflow as tf\n",
    "import numpy as np\n",
    "tf.set_random_seed(777) # for reproducibility"
   ]
  },
  {
   "cell_type": "code",
   "execution_count": 2,
   "metadata": {},
   "outputs": [],
   "source": [
    "# Predicting animal type based on various features\n",
    "xy = np.loadtxt('../data/data-04-zoo.csv', delimiter=',', dtype=np.float32)\n",
    "x_data = xy[:, 0:-1]\n",
    "y_data = xy[:, [-1]]"
   ]
  },
  {
   "cell_type": "code",
   "execution_count": 3,
   "metadata": {},
   "outputs": [
    {
     "name": "stdout",
     "output_type": "stream",
     "text": [
      "(101, 16) (101, 1)\n"
     ]
    }
   ],
   "source": [
    "print(x_data.shape, y_data.shape)"
   ]
  },
  {
   "cell_type": "code",
   "execution_count": 4,
   "metadata": {},
   "outputs": [],
   "source": [
    "nb_classes = 7 # 0~6"
   ]
  },
  {
   "cell_type": "code",
   "execution_count": 6,
   "metadata": {},
   "outputs": [
    {
     "name": "stdout",
     "output_type": "stream",
     "text": [
      "one_hot Tensor(\"one_hot:0\", shape=(?, 1, 7), dtype=float32)\n"
     ]
    }
   ],
   "source": [
    "X = tf.placeholder(tf.float32, [None, 16])\n",
    "Y = tf.placeholder(tf.int32, [None,1]) # 0~6\n",
    "Y_one_hot = tf.one_hot(Y, nb_classes) # one hot\n",
    "print(\"one_hot\", Y_one_hot)"
   ]
  },
  {
   "cell_type": "code",
   "execution_count": 7,
   "metadata": {},
   "outputs": [
    {
     "name": "stdout",
     "output_type": "stream",
     "text": [
      "reshape Tensor(\"Reshape:0\", shape=(?, 7), dtype=float32)\n"
     ]
    }
   ],
   "source": [
    "Y_one_hot = tf.reshape(Y_one_hot, [-1, nb_classes])\n",
    "print(\"reshape\", Y_one_hot)"
   ]
  },
  {
   "cell_type": "code",
   "execution_count": 8,
   "metadata": {},
   "outputs": [],
   "source": [
    "W = tf.Variable(tf.random_normal([16,nb_classes]), name='weight')\n",
    "b = tf.Variable(tf.random_normal([nb_classes]), name='bias')"
   ]
  },
  {
   "cell_type": "code",
   "execution_count": 9,
   "metadata": {},
   "outputs": [],
   "source": [
    "# tf.nn.softmax computes softmax activations\n",
    "# softmax = exp(logits) / reduce_sum(exp(logits), dim)\n",
    "logits = tf.matmul(X, W) + b\n",
    "hypothesis = tf.nn.softmax(logits)"
   ]
  },
  {
   "cell_type": "code",
   "execution_count": 10,
   "metadata": {},
   "outputs": [],
   "source": [
    "# Cross entropy cost/loss\n",
    "cost_i = tf.nn.softmax_cross_entropy_with_logits_v2(logits=logits, \n",
    "                                                    labels=tf.stop_gradient([Y_one_hot]))"
   ]
  },
  {
   "cell_type": "code",
   "execution_count": 12,
   "metadata": {},
   "outputs": [],
   "source": [
    "cost=tf.reduce_sum(cost_i)"
   ]
  },
  {
   "cell_type": "code",
   "execution_count": 13,
   "metadata": {},
   "outputs": [],
   "source": [
    "optimizer = tf.train.GradientDescentOptimizer(learning_rate=0.1).minimize(cost)"
   ]
  },
  {
   "cell_type": "code",
   "execution_count": 14,
   "metadata": {},
   "outputs": [],
   "source": [
    "prediction = tf.argmax(hypothesis, 1)\n",
    "correct_prediction = tf.equal(prediction, tf.argmax(Y_one_hot, 1))\n",
    "accuracy = tf.reduce_mean(tf.cast(correct_prediction, tf.float32))"
   ]
  },
  {
   "cell_type": "code",
   "execution_count": 15,
   "metadata": {},
   "outputs": [
    {
     "name": "stdout",
     "output_type": "stream",
     "text": [
      "step:     0\tLoss: 3429.593\tAcc: 40.59%\n",
      "step:   100\tLoss: 0.449\tAcc: 100.00%\n",
      "step:   200\tLoss: 0.261\tAcc: 100.00%\n",
      "step:   300\tLoss: 0.188\tAcc: 100.00%\n",
      "step:   400\tLoss: 0.148\tAcc: 100.00%\n",
      "step:   500\tLoss: 0.122\tAcc: 100.00%\n",
      "step:   600\tLoss: 0.104\tAcc: 100.00%\n",
      "step:   700\tLoss: 0.091\tAcc: 100.00%\n",
      "step:   800\tLoss: 0.081\tAcc: 100.00%\n",
      "step:   900\tLoss: 0.073\tAcc: 100.00%\n",
      "step:  1000\tLoss: 0.067\tAcc: 100.00%\n",
      "step:  1100\tLoss: 0.061\tAcc: 100.00%\n",
      "step:  1200\tLoss: 0.057\tAcc: 100.00%\n",
      "step:  1300\tLoss: 0.053\tAcc: 100.00%\n",
      "step:  1400\tLoss: 0.050\tAcc: 100.00%\n",
      "step:  1500\tLoss: 0.047\tAcc: 100.00%\n",
      "step:  1600\tLoss: 0.044\tAcc: 100.00%\n",
      "step:  1700\tLoss: 0.042\tAcc: 100.00%\n",
      "step:  1800\tLoss: 0.040\tAcc: 100.00%\n",
      "step:  1900\tLoss: 0.038\tAcc: 100.00%\n",
      "step:  2000\tLoss: 0.036\tAcc: 100.00%\n"
     ]
    }
   ],
   "source": [
    "# Launch graph\n",
    "with tf.Session() as sess:\n",
    "    sess.run(tf.global_variables_initializer())\n",
    "    \n",
    "    for step in range(2001):\n",
    "        sess.run(optimizer, feed_dict={X: x_data, Y: y_data})\n",
    "        if step % 100 == 0:\n",
    "            loss, acc = sess.run([cost,accuracy], feed_dict={X: x_data, Y:y_data})\n",
    "            print(\"step: {:5}\\tLoss: {:.3f}\\tAcc: {:.2%}\".format(step, loss, acc))\n",
    "            \n",
    "    # Let's see if we can predict\n",
    "    pred = sess.run(prediction, feed_dict={X: x_data})\n",
    "    # y_data : (N,1) = flatten => (N,) matches pred.shape\n",
    "    for p, y in zip(pred, y_data.flatten())"
   ]
  }
 ],
 "metadata": {
  "kernelspec": {
   "display_name": "Python 3",
   "language": "python",
   "name": "python3"
  },
  "language_info": {
   "codemirror_mode": {
    "name": "ipython",
    "version": 3
   },
   "file_extension": ".py",
   "mimetype": "text/x-python",
   "name": "python",
   "nbconvert_exporter": "python",
   "pygments_lexer": "ipython3",
   "version": "3.6.5"
  }
 },
 "nbformat": 4,
 "nbformat_minor": 2
}
