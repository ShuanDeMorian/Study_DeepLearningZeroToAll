{
 "cells": [
  {
   "cell_type": "code",
   "execution_count": 12,
   "metadata": {},
   "outputs": [],
   "source": [
    "import tensorflow as tf\n",
    "tf.set_random_seed(777) # for reproducibility"
   ]
  },
  {
   "cell_type": "code",
   "execution_count": 13,
   "metadata": {},
   "outputs": [],
   "source": [
    "x1_data = [73., 93., 89., 96., 73.]\n",
    "x2_data = [80., 88., 91., 98., 66.]\n",
    "x3_data = [75., 93., 90., 100., 70.]\n",
    "\n",
    "y_data = [152., 185., 180., 196., 142.]"
   ]
  },
  {
   "cell_type": "code",
   "execution_count": 14,
   "metadata": {},
   "outputs": [],
   "source": [
    "# placeholders for a tensor that will be always fed.\n",
    "x1 = tf.placeholder(tf.float32)\n",
    "x2 = tf.placeholder(tf.float32)\n",
    "x3 = tf.placeholder(tf.float32)\n",
    "\n",
    "Y = tf.placeholder(tf.float32)"
   ]
  },
  {
   "cell_type": "code",
   "execution_count": 15,
   "metadata": {},
   "outputs": [],
   "source": [
    "w1 = tf.Variable(tf.random_normal([1]), name='weight1')\n",
    "w2 = tf.Variable(tf.random_normal([1]), name='weight2')\n",
    "w3 = tf.Variable(tf.random_normal([1]), name='weight3')\n",
    "b = tf.Variable(tf.random_normal([1]), name='bias')"
   ]
  },
  {
   "cell_type": "code",
   "execution_count": 16,
   "metadata": {},
   "outputs": [],
   "source": [
    "hypothesis = x1 * w1 + x2 * w2 + x3 * w3 + b"
   ]
  },
  {
   "cell_type": "code",
   "execution_count": 17,
   "metadata": {},
   "outputs": [],
   "source": [
    "# cost/loss function\n",
    "cost = tf.reduce_mean(tf.square(hypothesis -  Y))"
   ]
  },
  {
   "cell_type": "code",
   "execution_count": 18,
   "metadata": {},
   "outputs": [],
   "source": [
    "# Minimize. Need a very small learning rate for this data set\n",
    "optimizer = tf.train.GradientDescentOptimizer(learning_rate=1e-5)\n",
    "train = optimizer.minimize(cost)"
   ]
  },
  {
   "cell_type": "code",
   "execution_count": 19,
   "metadata": {},
   "outputs": [],
   "source": [
    "# Launch the graph in a session.\n",
    "sess = tf.Session()\n",
    "# Initializes global variables in the graph\n",
    "sess.run(tf.global_variables_initializer())"
   ]
  },
  {
   "cell_type": "code",
   "execution_count": 20,
   "metadata": {
    "scrolled": false
   },
   "outputs": [
    {
     "name": "stdout",
     "output_type": "stream",
     "text": [
      "0 Cost:  11366.697 \n",
      "Prediction:\n",
      " [63.399445 66.89691  71.169106 72.95558  52.27266 ]\n",
      "100 Cost:  14.44982 \n",
      "Prediction:\n",
      " [157.79507 180.61832 183.08237 194.84927 139.06029]\n",
      "200 Cost:  13.798487 \n",
      "Prediction:\n",
      " [157.65802 180.7116  183.03949 194.82513 139.17688]\n",
      "300 Cost:  13.181091 \n",
      "Prediction:\n",
      " [157.52455 180.80237 182.99771 194.8018  139.29025]\n",
      "400 Cost:  12.595747 \n",
      "Prediction:\n",
      " [157.39458 180.89078 182.957   194.77919 139.40051]\n",
      "500 Cost:  12.040855 \n",
      "Prediction:\n",
      " [157.26802 180.97687 182.91736 194.75734 139.50772]\n",
      "600 Cost:  11.514662 \n",
      "Prediction:\n",
      " [157.14474 181.06068 182.8787  194.73619 139.61198]\n",
      "700 Cost:  11.015831 \n",
      "Prediction:\n",
      " [157.02472 181.1423  182.84103 194.71573 139.71336]\n",
      "800 Cost:  10.542796 \n",
      "Prediction:\n",
      " [156.9078  181.22177 182.80432 194.69597 139.81192]\n",
      "900 Cost:  10.094267 \n",
      "Prediction:\n",
      " [156.79393 181.29913 182.76855 194.67685 139.90775]\n",
      "1000 Cost:  9.668946 \n",
      "Prediction:\n",
      " [156.68306 181.37448 182.7337  194.6584  140.00093]\n",
      "1100 Cost:  9.265625 \n",
      "Prediction:\n",
      " [156.57506 181.44783 182.69975 194.64055 140.09152]\n",
      "1200 Cost:  8.883013 \n",
      "Prediction:\n",
      " [156.46985 181.51927 182.66664 194.62334 140.1796 ]\n",
      "1300 Cost:  8.520201 \n",
      "Prediction:\n",
      " [156.3674  181.58882 182.63438 194.60669 140.26524]\n",
      "1400 Cost:  8.176069 \n",
      "Prediction:\n",
      " [156.26762 181.65654 182.60292 194.59062 140.3485 ]\n",
      "1500 Cost:  7.849599 \n",
      "Prediction:\n",
      " [156.17041 181.7225  182.5723  194.57512 140.42943]\n",
      "1600 Cost:  7.539945 \n",
      "Prediction:\n",
      " [156.07578 181.78674 182.54243 194.56018 140.50812]\n",
      "1700 Cost:  7.2461257 \n",
      "Prediction:\n",
      " [155.98354 181.84926 182.51329 194.54573 140.5846 ]\n",
      "1800 Cost:  6.967397 \n",
      "Prediction:\n",
      " [155.89372 181.91017 182.48492 194.53181 140.65894]\n",
      "1900 Cost:  6.702854 \n",
      "Prediction:\n",
      " [155.80621 181.9695  182.45726 194.51842 140.7312 ]\n",
      "2000 Cost:  6.451865 \n",
      "Prediction:\n",
      " [155.72101 182.02727 182.4303  194.50552 140.80147]\n"
     ]
    }
   ],
   "source": [
    "for step in range(2001):\n",
    "    cost_val, hy_val, _ = sess.run([cost, hypothesis, train],\n",
    "                                  feed_dict={x1: x1_data, x2: x2_data, x3: x3_data, Y:y_data})\n",
    "    if step % 100 == 0:\n",
    "        print(step, \"Cost: \", cost_val, \"\\nPrediction:\\n\", hy_val)"
   ]
  }
 ],
 "metadata": {
  "kernelspec": {
   "display_name": "Python 3",
   "language": "python",
   "name": "python3"
  },
  "language_info": {
   "codemirror_mode": {
    "name": "ipython",
    "version": 3
   },
   "file_extension": ".py",
   "mimetype": "text/x-python",
   "name": "python",
   "nbconvert_exporter": "python",
   "pygments_lexer": "ipython3",
   "version": "3.6.5"
  }
 },
 "nbformat": 4,
 "nbformat_minor": 2
}
