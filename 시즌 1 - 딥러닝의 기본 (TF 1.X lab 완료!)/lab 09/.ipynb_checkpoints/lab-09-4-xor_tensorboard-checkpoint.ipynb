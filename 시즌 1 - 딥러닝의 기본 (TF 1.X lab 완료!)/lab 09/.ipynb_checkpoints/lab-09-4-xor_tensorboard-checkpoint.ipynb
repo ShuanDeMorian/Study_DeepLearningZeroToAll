{
 "cells": [
  {
   "cell_type": "code",
   "execution_count": 1,
   "metadata": {},
   "outputs": [],
   "source": [
    "import tensorflow as tf\n",
    "import numpy as np"
   ]
  },
  {
   "cell_type": "code",
   "execution_count": 2,
   "metadata": {},
   "outputs": [],
   "source": [
    "tf.set_random_seed(777)  # for reproducibility\n",
    "learning_rate = 0.01"
   ]
  },
  {
   "cell_type": "code",
   "execution_count": 3,
   "metadata": {},
   "outputs": [],
   "source": [
    "x_data = [[0, 0],\n",
    "          [0, 1],\n",
    "          [1, 0],\n",
    "          [1, 1]]\n",
    "y_data = [[0],\n",
    "          [1],\n",
    "          [1],\n",
    "          [0]]\n",
    "x_data = np.array(x_data, dtype=np.float32)\n",
    "y_data = np.array(y_data, dtype=np.float32)"
   ]
  },
  {
   "cell_type": "code",
   "execution_count": 4,
   "metadata": {},
   "outputs": [],
   "source": [
    "X = tf.placeholder(tf.float32, [None, 2], name='x-input')\n",
    "Y = tf.placeholder(tf.float32, [None, 1], name='y-input')"
   ]
  },
  {
   "cell_type": "code",
   "execution_count": 5,
   "metadata": {},
   "outputs": [],
   "source": [
    "with tf.name_scope('layer1'):\n",
    "    W1 = tf.Variable(tf.random_normal([2, 2]), name='weight1')\n",
    "    b1 = tf.Variable(tf.random_normal([2]), name='bias1')\n",
    "    layer1 = tf.sigmoid(tf.matmul(X, W1) + b1)\n",
    "    \n",
    "    w1_hist = tf.summary.histogram(\"weights1\", W1)\n",
    "    b1_hist = tf.summary.histogram(\"biases1\", b1)\n",
    "    layer1_hist = tf.summary.histogram(\"layer1\", layer1)"
   ]
  },
  {
   "cell_type": "code",
   "execution_count": 6,
   "metadata": {},
   "outputs": [],
   "source": [
    "with tf.name_scope(\"layer2\"):\n",
    "    W2 = tf.Variable(tf.random_normal([2, 1]), name='weight2')\n",
    "    b2 = tf.Variable(tf.random_normal([1]), name='bias2')\n",
    "    hypothesis = tf.sigmoid(tf.matmul(layer1, W2) + b2)\n",
    "\n",
    "    w2_hist = tf.summary.histogram(\"weights2\", W2)\n",
    "    b2_hist = tf.summary.histogram(\"biases2\", b2)\n",
    "    hypothesis_hist = tf.summary.histogram(\"hypothesis\", hypothesis)"
   ]
  },
  {
   "cell_type": "code",
   "execution_count": 7,
   "metadata": {},
   "outputs": [],
   "source": [
    "# cost/loss function\n",
    "with tf.name_scope(\"cost\"):\n",
    "    cost = -tf.reduce_mean(Y * tf.log(hypothesis) + (1 - Y) *\n",
    "                           tf.log(1 - hypothesis))\n",
    "    cost_summ = tf.summary.scalar(\"cost\", cost)"
   ]
  },
  {
   "cell_type": "code",
   "execution_count": 8,
   "metadata": {},
   "outputs": [],
   "source": [
    "with tf.name_scope(\"train\"):\n",
    "    train = tf.train.AdamOptimizer(learning_rate=learning_rate).minimize(cost)"
   ]
  },
  {
   "cell_type": "code",
   "execution_count": 9,
   "metadata": {},
   "outputs": [],
   "source": [
    "# Accuracy computation\n",
    "# True if hypothesis>0.5 else False\n",
    "predicted = tf.cast(hypothesis > 0.5, dtype=tf.float32)\n",
    "accuracy = tf.reduce_mean(tf.cast(tf.equal(predicted, Y), dtype=tf.float32))\n",
    "accuracy_summ = tf.summary.scalar(\"accuracy\", accuracy)"
   ]
  },
  {
   "cell_type": "code",
   "execution_count": 10,
   "metadata": {},
   "outputs": [
    {
     "name": "stdout",
     "output_type": "stream",
     "text": [
      "0 0.7156377 [array([[ 0.7926959 ,  0.6886104 ],\n",
      "       [-1.2072834 , -0.29517072]], dtype=float32), array([[1.7177    ],\n",
      "       [0.35572484]], dtype=float32)]\n",
      "1000 0.022333965 [array([[ 5.67365  , -6.219753 ],\n",
      "       [-6.1447105,  6.572153 ]], dtype=float32), array([[8.90876 ],\n",
      "       [8.472787]], dtype=float32)]\n",
      "2000 0.006309393 [array([[ 6.6223445, -7.1925664],\n",
      "       [-7.0854316,  7.5267982]], dtype=float32), array([[11.223158],\n",
      "       [10.811347]], dtype=float32)]\n",
      "3000 0.0027709822 [array([[ 7.1489196, -7.7329946],\n",
      "       [-7.609344 ,  8.0584545]], dtype=float32), array([[12.759907],\n",
      "       [12.362965]], dtype=float32)]\n",
      "4000 0.0014247242 [array([[ 7.5337973, -8.127679 ],\n",
      "       [-7.9929643,  8.447398 ]], dtype=float32), array([[14.016665],\n",
      "       [13.630341]], dtype=float32)]\n",
      "5000 0.0007894051 [array([[ 7.849699 , -8.4513235],\n",
      "       [-8.308202 ,  8.766735 ]], dtype=float32), array([[15.141127],\n",
      "       [14.763162]], dtype=float32)]\n",
      "6000 0.00045509645 [array([[ 8.125374, -8.733494],\n",
      "       [-8.583534,  9.045429]], dtype=float32), array([[16.19618 ],\n",
      "       [15.825219]], dtype=float32)]\n",
      "7000 0.0002683317 [array([[ 8.374637, -8.988395],\n",
      "       [-8.83265 ,  9.297393]], dtype=float32), array([[17.213171],\n",
      "       [16.848274]], dtype=float32)]\n",
      "8000 0.00016026004 [array([[ 8.604927, -9.223698],\n",
      "       [-9.062923,  9.530157]], dtype=float32), array([[18.209024],\n",
      "       [17.849438]], dtype=float32)]\n",
      "9000 9.648972e-05 [array([[ 8.820603, -9.443914],\n",
      "       [-9.278695,  9.748132]], dtype=float32), array([[19.193117],\n",
      "       [18.838554]], dtype=float32)]\n",
      "10000 5.8339763e-05 [array([[ 9.024394, -9.651845],\n",
      "       [-9.482652,  9.95404 ]], dtype=float32), array([[20.17106 ],\n",
      "       [19.820868]], dtype=float32)]\n",
      "\n",
      "Hypothesis:  [[6.1310318e-05]\n",
      " [9.9993694e-01]\n",
      " [9.9995077e-01]\n",
      " [5.9751477e-05]] \n",
      "Correct:  [[0.]\n",
      " [1.]\n",
      " [1.]\n",
      " [0.]] \n",
      "Accuracy:  1.0\n"
     ]
    }
   ],
   "source": [
    "# Launch graph\n",
    "with tf.Session() as sess:\n",
    "    # 저장된 폴더에 가서\n",
    "    # tensorboard --logdir=./logs/xor_logs 을 cmd로 입력하여 텐서보드 실행\n",
    "    merged_summary = tf.summary.merge_all()\n",
    "    writer = tf.summary.FileWriter(\"./logs/xor_logs_r0_01\")\n",
    "    writer.add_graph(sess.graph) # Show the graph\n",
    "    \n",
    "    # Initialize TensorFlow variables\n",
    "    sess.run(tf.global_variables_initializer())\n",
    "    \n",
    "    for step in range(10001):\n",
    "        summary, _ = sess.run([merged_summary, train], feed_dict={X:x_data,Y:y_data})\n",
    "        writer.add_summary(summary, global_step=step)\n",
    "        \n",
    "        if step % 1000 == 0:\n",
    "            print(step, sess.run(cost, feed_dict={\n",
    "                  X: x_data, Y: y_data}), sess.run([W1, W2]))\n",
    "            \n",
    "    # Accuracy report\n",
    "    h, c, a = sess.run([hypothesis, predicted, accuracy],\n",
    "                       feed_dict={X: x_data, Y: y_data})\n",
    "    print(\"\\nHypothesis: \", h, \"\\nCorrect: \", c, \"\\nAccuracy: \", a)"
   ]
  }
 ],
 "metadata": {
  "kernelspec": {
   "display_name": "Python 3",
   "language": "python",
   "name": "python3"
  },
  "language_info": {
   "codemirror_mode": {
    "name": "ipython",
    "version": 3
   },
   "file_extension": ".py",
   "mimetype": "text/x-python",
   "name": "python",
   "nbconvert_exporter": "python",
   "pygments_lexer": "ipython3",
   "version": "3.6.5"
  }
 },
 "nbformat": 4,
 "nbformat_minor": 2
}
