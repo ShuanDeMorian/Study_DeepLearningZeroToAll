{
 "cells": [
  {
   "cell_type": "code",
   "execution_count": 2,
   "metadata": {},
   "outputs": [],
   "source": [
    "import tensorflow as tf\n",
    "import numpy as np"
   ]
  },
  {
   "cell_type": "code",
   "execution_count": 3,
   "metadata": {},
   "outputs": [],
   "source": [
    "tf.set_random_seed(777)  # for reproducibility\n",
    "learning_rate = 0.1"
   ]
  },
  {
   "cell_type": "code",
   "execution_count": 4,
   "metadata": {},
   "outputs": [],
   "source": [
    "x_data = [[0, 0],\n",
    "          [0, 1],\n",
    "          [1, 0],\n",
    "          [1, 1]]\n",
    "y_data = [[0],\n",
    "          [1],\n",
    "          [1],\n",
    "          [0]]\n",
    "x_data = np.array(x_data, dtype=np.float32)\n",
    "y_data = np.array(y_data, dtype=np.float32)"
   ]
  },
  {
   "cell_type": "code",
   "execution_count": 5,
   "metadata": {},
   "outputs": [],
   "source": [
    "X = tf.placeholder(tf.float32, [None, 2])\n",
    "Y = tf.placeholder(tf.float32, [None, 1])"
   ]
  },
  {
   "cell_type": "code",
   "execution_count": 6,
   "metadata": {},
   "outputs": [],
   "source": [
    "W1 = tf.Variable(tf.random_normal([2, 2]), name='weight1')\n",
    "b1 = tf.Variable(tf.random_normal([2]), name='bias1')\n",
    "layer1 = tf.sigmoid(tf.matmul(X, W1) + b1)\n",
    "\n",
    "W2 = tf.Variable(tf.random_normal([2, 1]), name='weight2')\n",
    "b2 = tf.Variable(tf.random_normal([1]), name='bias2')\n",
    "hypothesis = tf.sigmoid(tf.matmul(layer1, W2) + b2)"
   ]
  },
  {
   "cell_type": "code",
   "execution_count": 7,
   "metadata": {},
   "outputs": [],
   "source": [
    "# cost/loss function\n",
    "cost = -tf.reduce_mean(Y * tf.log(hypothesis) + (1 - Y) *\n",
    "                       tf.log(1 - hypothesis))\n",
    "\n",
    "train = tf.train.GradientDescentOptimizer(learning_rate=learning_rate).minimize(cost)"
   ]
  },
  {
   "cell_type": "code",
   "execution_count": 8,
   "metadata": {},
   "outputs": [],
   "source": [
    "# Accuracy computation\n",
    "# True if hypothesis>0.5 else False\n",
    "predicted = tf.cast(hypothesis > 0.5, dtype=tf.float32)\n",
    "accuracy = tf.reduce_mean(tf.cast(tf.equal(predicted, Y), dtype=tf.float32))"
   ]
  },
  {
   "cell_type": "code",
   "execution_count": 9,
   "metadata": {},
   "outputs": [
    {
     "name": "stdout",
     "output_type": "stream",
     "text": [
      "0 0.7539022 [array([[ 0.7988674 ,  0.6801188 ],\n",
      "       [-1.2198634 , -0.30361032]], dtype=float32), array([[ 1.3752297 ],\n",
      "       [-0.78823847]], dtype=float32)]\n",
      "1000 0.67122906 [array([[ 1.1574563 ,  0.70470023],\n",
      "       [-1.8544798 , -0.15281102]], dtype=float32), array([[ 1.3886284],\n",
      "       [-0.8744256]], dtype=float32)]\n",
      "2000 0.53393596 [array([[ 3.053097 ,  1.3885086],\n",
      "       [-3.4558659, -0.6531137]], dtype=float32), array([[ 3.2834744],\n",
      "       [-1.5618594]], dtype=float32)]\n",
      "3000 0.19786675 [array([[ 4.6234245,  3.502949 ],\n",
      "       [-4.752163 , -3.0361452]], dtype=float32), array([[ 5.564906],\n",
      "       [-4.344725]], dtype=float32)]\n",
      "4000 0.07765331 [array([[ 5.282392 ,  4.63241  ],\n",
      "       [-5.363648 , -4.2742133]], dtype=float32), array([[ 7.0586023],\n",
      "       [-6.2991076]], dtype=float32)]\n",
      "5000 0.04536082 [array([[ 5.610321 ,  5.1595116],\n",
      "       [-5.695793 , -4.8254967]], dtype=float32), array([[ 7.971818 ],\n",
      "       [-7.3488626]], dtype=float32)]\n",
      "6000 0.031536568 [array([[ 5.819358 ,  5.4801764],\n",
      "       [-5.914306 , -5.1571383]], dtype=float32), array([[ 8.610341],\n",
      "       [-8.044239]], dtype=float32)]\n",
      "7000 0.02401754 [array([[ 5.970447 ,  5.7047625],\n",
      "       [-6.074383 , -5.3883605]], dtype=float32), array([[ 9.097483],\n",
      "       [-8.560672]], dtype=float32)]\n",
      "8000 0.019331548 [array([[ 6.087807 ,  5.8752766],\n",
      "       [-6.199533 , -5.5634637]], dtype=float32), array([[ 9.490048 ],\n",
      "       [-8.9703865]], dtype=float32)]\n",
      "9000 0.016145576 [array([[ 6.183277 ,  6.0115905],\n",
      "       [-6.3016844, -5.7032   ]], dtype=float32), array([[ 9.818282],\n",
      "       [-9.309538]], dtype=float32)]\n",
      "10000 0.013844791 [array([[ 6.263471 ,  6.1245112],\n",
      "       [-6.3876433, -5.818806 ]], dtype=float32), array([[10.100041],\n",
      "       [-9.598662]], dtype=float32)]\n",
      "\n",
      "Hypothesis:  [[0.01338218]\n",
      " [0.98166394]\n",
      " [0.98809403]\n",
      " [0.01135799]] \n",
      "Correct:  [[0.]\n",
      " [1.]\n",
      " [1.]\n",
      " [0.]] \n",
      "Accuracy:  1.0\n"
     ]
    }
   ],
   "source": [
    "# Launch graph\n",
    "with tf.Session() as sess:\n",
    "    # Initialize TensorFlow variables\n",
    "    sess.run(tf.global_variables_initializer())\n",
    "\n",
    "    for step in range(10001):\n",
    "        sess.run(train, feed_dict={X: x_data, Y: y_data})\n",
    "        if step % 1000 == 0:\n",
    "            print(step, sess.run(cost, feed_dict={\n",
    "                  X: x_data, Y: y_data}), sess.run([W1, W2]))\n",
    "\n",
    "    # Accuracy report\n",
    "    h, c, a = sess.run([hypothesis, predicted, accuracy],\n",
    "                       feed_dict={X: x_data, Y: y_data})\n",
    "    print(\"\\nHypothesis: \", h, \"\\nCorrect: \", c, \"\\nAccuracy: \", a)"
   ]
  }
 ],
 "metadata": {
  "kernelspec": {
   "display_name": "Python 3",
   "language": "python",
   "name": "python3"
  },
  "language_info": {
   "codemirror_mode": {
    "name": "ipython",
    "version": 3
   },
   "file_extension": ".py",
   "mimetype": "text/x-python",
   "name": "python",
   "nbconvert_exporter": "python",
   "pygments_lexer": "ipython3",
   "version": "3.6.5"
  }
 },
 "nbformat": 4,
 "nbformat_minor": 2
}
