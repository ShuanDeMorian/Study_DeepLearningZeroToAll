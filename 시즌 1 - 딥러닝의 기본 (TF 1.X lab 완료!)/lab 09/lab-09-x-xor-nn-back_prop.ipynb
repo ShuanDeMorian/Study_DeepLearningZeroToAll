{
 "cells": [
  {
   "cell_type": "code",
   "execution_count": 1,
   "metadata": {},
   "outputs": [],
   "source": [
    "import tensorflow as tf\n",
    "import numpy as np"
   ]
  },
  {
   "cell_type": "code",
   "execution_count": 2,
   "metadata": {},
   "outputs": [],
   "source": [
    "tf.set_random_seed(777)  # for reproducibility\n",
    "learning_rate = 0.1"
   ]
  },
  {
   "cell_type": "code",
   "execution_count": 3,
   "metadata": {},
   "outputs": [],
   "source": [
    "x_data = [[0, 0],\n",
    "          [0, 1],\n",
    "          [1, 0],\n",
    "          [1, 1]]\n",
    "y_data = [[0],\n",
    "          [1],\n",
    "          [1],\n",
    "          [0]]"
   ]
  },
  {
   "cell_type": "code",
   "execution_count": 4,
   "metadata": {},
   "outputs": [],
   "source": [
    "x_data = np.array(x_data, dtype=np.float32)\n",
    "y_data = np.array(y_data, dtype=np.float32)"
   ]
  },
  {
   "cell_type": "code",
   "execution_count": 5,
   "metadata": {},
   "outputs": [],
   "source": [
    "X = tf.placeholder(tf.float32, [None, 2])\n",
    "Y = tf.placeholder(tf.float32, [None, 1])"
   ]
  },
  {
   "cell_type": "code",
   "execution_count": 6,
   "metadata": {},
   "outputs": [],
   "source": [
    "W1 = tf.Variable(tf.random_normal([2, 2]), name='weight1')\n",
    "b1 = tf.Variable(tf.random_normal([2]), name='bias1')\n",
    "l1 = tf.sigmoid(tf.matmul(X, W1) + b1)"
   ]
  },
  {
   "cell_type": "code",
   "execution_count": 7,
   "metadata": {},
   "outputs": [],
   "source": [
    "W2 = tf.Variable(tf.random_normal([2, 1]), name='weight2')\n",
    "b2 = tf.Variable(tf.random_normal([1]), name='bias2')\n",
    "Y_pred = tf.sigmoid(tf.matmul(l1, W2) + b2)"
   ]
  },
  {
   "cell_type": "code",
   "execution_count": 8,
   "metadata": {},
   "outputs": [],
   "source": [
    "# cost/loss function\n",
    "cost = -tf.reduce_mean(Y * tf.log(Y_pred) + (1 - Y) *\n",
    "                       tf.log(1 - Y_pred))"
   ]
  },
  {
   "cell_type": "code",
   "execution_count": 9,
   "metadata": {},
   "outputs": [],
   "source": [
    "# Network\n",
    "#          p1     a1           l1     p2     a2           l2 (y_pred)\n",
    "# X -> (*) -> (+) -> (sigmoid) -> (*) -> (+) -> (sigmoid) -> (loss)\n",
    "#       ^      ^                   ^      ^\n",
    "#       |      |                   |      |\n",
    "#       W1     b1                  W2     b2"
   ]
  },
  {
   "cell_type": "code",
   "execution_count": 10,
   "metadata": {},
   "outputs": [],
   "source": [
    "# Loss derivative\n",
    "d_Y_pred = (Y_pred - Y) / (Y_pred * (1.0 - Y_pred) + 1e-7)"
   ]
  },
  {
   "cell_type": "code",
   "execution_count": 11,
   "metadata": {},
   "outputs": [],
   "source": [
    "# Layer 2\n",
    "d_sigma2 = Y_pred * (1 - Y_pred)\n",
    "d_a2 = d_Y_pred * d_sigma2\n",
    "d_p2 = d_a2\n",
    "d_b2 = d_a2\n",
    "d_W2 = tf.matmul(tf.transpose(l1), d_p2)"
   ]
  },
  {
   "cell_type": "code",
   "execution_count": 12,
   "metadata": {},
   "outputs": [],
   "source": [
    "# Mean\n",
    "d_b2_mean = tf.reduce_mean(d_b2, axis=[0])\n",
    "d_W2_mean = d_W2 / tf.cast(tf.shape(l1)[0], dtype=tf.float32)"
   ]
  },
  {
   "cell_type": "code",
   "execution_count": 13,
   "metadata": {},
   "outputs": [],
   "source": [
    "# Layer 1\n",
    "d_l1 = tf.matmul(d_p2, tf.transpose(W2))\n",
    "d_sigma1 = l1 * (1 - l1)\n",
    "d_a1 = d_l1 * d_sigma1\n",
    "d_b1 = d_a1\n",
    "d_p1 = d_a1\n",
    "d_W1 = tf.matmul(tf.transpose(X), d_a1)"
   ]
  },
  {
   "cell_type": "code",
   "execution_count": 14,
   "metadata": {},
   "outputs": [],
   "source": [
    "# Mean\n",
    "d_W1_mean = d_W1 / tf.cast(tf.shape(X)[0], dtype=tf.float32)\n",
    "d_b1_mean = tf.reduce_mean(d_b1, axis=[0])"
   ]
  },
  {
   "cell_type": "code",
   "execution_count": 15,
   "metadata": {},
   "outputs": [],
   "source": [
    "# Weight update\n",
    "step = [\n",
    "  tf.assign(W2, W2 - learning_rate * d_W2_mean),\n",
    "  tf.assign(b2, b2 - learning_rate * d_b2_mean),\n",
    "  tf.assign(W1, W1 - learning_rate * d_W1_mean),\n",
    "  tf.assign(b1, b1 - learning_rate * d_b1_mean)\n",
    "]"
   ]
  },
  {
   "cell_type": "code",
   "execution_count": 16,
   "metadata": {},
   "outputs": [],
   "source": [
    "# Accuracy computation\n",
    "# True if hypothesis > 0.5 else False\n",
    "predicted = tf.cast(Y_pred > 0.5, dtype=tf.float32)\n",
    "accuracy = tf.reduce_mean(tf.cast(tf.equal(predicted, Y), dtype=tf.float32))"
   ]
  },
  {
   "cell_type": "code",
   "execution_count": 17,
   "metadata": {},
   "outputs": [
    {
     "name": "stdout",
     "output_type": "stream",
     "text": [
      "shape 4\n",
      "0 [0.7539022, array([[ 0.14797103, -0.05841584],\n",
      "       [ 0.09894872, -0.06082734]], dtype=float32)] [array([[ 0.7988674 ,  0.6801188 ],\n",
      "       [-1.2198634 , -0.30361032]], dtype=float32), array([[ 1.3752297 ],\n",
      "       [-0.78823847]], dtype=float32)]\n",
      "1000 [0.67122954, array([[-0.05335757, -0.00569655],\n",
      "       [ 0.04508635,  0.00137651]], dtype=float32)] [array([[ 1.1574484 ,  0.7047016 ],\n",
      "       [-1.8544734 , -0.15280896]], dtype=float32), array([[ 1.388614  ],\n",
      "       [-0.87442386]], dtype=float32)]\n",
      "2000 [0.5339322, array([[-0.07984595, -0.0623339 ],\n",
      "       [ 0.06753072,  0.05506219]], dtype=float32)] [array([[ 3.0531507 ,  1.3885382 ],\n",
      "       [-3.455911  , -0.65313613]], dtype=float32), array([[ 3.2834916],\n",
      "       [-1.5618726]], dtype=float32)]\n",
      "3000 [0.1978597, array([[-0.04035074, -0.07028658],\n",
      "       [ 0.03509773,  0.0806924 ]], dtype=float32)] [array([[ 4.623466 ,  3.5030253],\n",
      "       [-4.7522044, -3.0362306]], dtype=float32), array([[ 5.564932],\n",
      "       [-4.344779]], dtype=float32)]\n",
      "4000 [0.07765173, array([[-0.01725451, -0.02848968],\n",
      "       [ 0.01704449,  0.03009068]], dtype=float32)] [array([[ 5.282417 ,  4.6324625],\n",
      "       [-5.3636737, -4.2742643]], dtype=float32), array([[ 7.0586095],\n",
      "       [-6.299127 ]], dtype=float32)]\n",
      "5000 [0.04536026, array([[-0.01010338, -0.01578584],\n",
      "       [ 0.01045542,  0.01638016]], dtype=float32)] [array([[ 5.610339 ,  5.1595488],\n",
      "       [-5.695815 , -4.825537 ]], dtype=float32), array([[ 7.9718156],\n",
      "       [-7.3488693]], dtype=float32)]\n",
      "6000 [0.031536333, array([[-0.00697166, -0.01049913],\n",
      "       [ 0.00735169,  0.01082697]], dtype=float32)] [array([[ 5.8193727,  5.480209 ],\n",
      "       [-5.9143243, -5.1571717]], dtype=float32), array([[ 8.610331],\n",
      "       [-8.044234]], dtype=float32)]\n",
      "7000 [0.02401743, array([[-0.00526278, -0.00772174],\n",
      "       [ 0.0055987 ,  0.00793772]], dtype=float32)] [array([[ 5.9704604,  5.7047915],\n",
      "       [-6.0743995, -5.3883896]], dtype=float32), array([[ 9.097471],\n",
      "       [-8.560664]], dtype=float32)]\n",
      "8000 [0.019331504, array([[-0.00419968, -0.00604271],\n",
      "       [ 0.0044879 ,  0.00619912]], dtype=float32)] [array([[ 6.08782 ,  5.875304],\n",
      "       [-6.199549, -5.563491]], dtype=float32), array([[ 9.490035],\n",
      "       [-8.970377]], dtype=float32)]\n",
      "9000 [0.016145544, array([[-0.00347958, -0.00493026],\n",
      "       [ 0.00372714,  0.00505043]], dtype=float32)] [array([[ 6.18329  ,  6.0116158],\n",
      "       [-6.3017   , -5.703224 ]], dtype=float32), array([[ 9.818266 ],\n",
      "       [-9.3095255]], dtype=float32)]\n",
      "10000 [0.013844806, array([[-0.00296171, -0.00414459],\n",
      "       [ 0.00317636,  0.00424048]], dtype=float32)] [array([[ 6.2634835,  6.124536 ],\n",
      "       [-6.387658 , -5.8188286]], dtype=float32), array([[10.100024],\n",
      "       [-9.598649]], dtype=float32)]\n",
      "\n",
      "Hypothesis:  [[0.01338218]\n",
      " [0.98166394]\n",
      " [0.98809403]\n",
      " [0.01135802]] \n",
      "Correct:  [[0.]\n",
      " [1.]\n",
      " [1.]\n",
      " [0.]] \n",
      "Accuracy:  1.0\n"
     ]
    }
   ],
   "source": [
    "# Launch graph\n",
    "with tf.Session() as sess:\n",
    "    # Initialize TensorFlow variables\n",
    "    sess.run(tf.global_variables_initializer())\n",
    "\n",
    "    print(\"shape\", sess.run(tf.shape(X)[0], feed_dict={X: x_data}))\n",
    "\n",
    "\n",
    "    for i in range(10001):\n",
    "        sess.run([step, cost], feed_dict={X: x_data, Y: y_data})\n",
    "        if i % 1000 == 0:\n",
    "            print(i, sess.run([cost, d_W1], feed_dict={\n",
    "                  X: x_data, Y: y_data}), sess.run([W1, W2]))\n",
    "\n",
    "    # Accuracy report\n",
    "    h, c, a = sess.run([Y_pred, predicted, accuracy],\n",
    "                       feed_dict={X: x_data, Y: y_data})\n",
    "    print(\"\\nHypothesis: \", h, \"\\nCorrect: \", c, \"\\nAccuracy: \", a)"
   ]
  }
 ],
 "metadata": {
  "kernelspec": {
   "display_name": "Python 3",
   "language": "python",
   "name": "python3"
  },
  "language_info": {
   "codemirror_mode": {
    "name": "ipython",
    "version": 3
   },
   "file_extension": ".py",
   "mimetype": "text/x-python",
   "name": "python",
   "nbconvert_exporter": "python",
   "pygments_lexer": "ipython3",
   "version": "3.6.5"
  }
 },
 "nbformat": 4,
 "nbformat_minor": 2
}
